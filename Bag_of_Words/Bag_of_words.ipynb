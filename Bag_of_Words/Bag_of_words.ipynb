{
 "cells": [
  {
   "cell_type": "code",
   "execution_count": 1,
   "metadata": {},
   "outputs": [],
   "source": [
    "import nltk\n",
    "import numpy as np"
   ]
  },
  {
   "cell_type": "code",
   "execution_count": 2,
   "metadata": {},
   "outputs": [],
   "source": [
    "#function declaration\n",
    "def my_bag_of_words(text, words_to_index, dict_size):\n",
    "    \"\"\"\n",
    "    text: a string\n",
    "    dict_size: size of the dictionary\n",
    "\n",
    "    return a vector which is a bag-of-words \n",
    "    representation of 'text'\n",
    "    \"\"\"\n",
    "    result_vector = np.zeros(dict_size, dtype=int)  \n",
    "    tokenizer=nltk.tokenize.WhitespaceTokenizer()\n",
    "    words = tokenizer.tokenize(text)\n",
    "    for w in words:\n",
    "        for key, value in words_to_index.items():\n",
    "            if w == key:\n",
    "                result_vector[value] += 1;  \n",
    "    return result_vector\n"
   ]
  },
  {
   "cell_type": "code",
   "execution_count": 3,
   "metadata": {},
   "outputs": [
    {
     "data": {
      "text/plain": [
       "array([1, 1, 0, 1])"
      ]
     },
     "execution_count": 3,
     "metadata": {},
     "output_type": "execute_result"
    }
   ],
   "source": [
    "#calling the function\n",
    "words_to_index = {'hi': 0, 'you': 1, 'me': 2, 'are': 3}\n",
    "text = 'hi how are you'\n",
    "dict_size = 4\n",
    "my_bag_of_words(text, words_to_index, dict_size)\n"
   ]
  },
  {
   "cell_type": "code",
   "execution_count": null,
   "metadata": {},
   "outputs": [],
   "source": []
  }
 ],
 "metadata": {
  "kernelspec": {
   "display_name": "Python 3",
   "language": "python",
   "name": "python3"
  },
  "language_info": {
   "codemirror_mode": {
    "name": "ipython",
    "version": 3
   },
   "file_extension": ".py",
   "mimetype": "text/x-python",
   "name": "python",
   "nbconvert_exporter": "python",
   "pygments_lexer": "ipython3",
   "version": "3.6.8"
  }
 },
 "nbformat": 4,
 "nbformat_minor": 2
}
