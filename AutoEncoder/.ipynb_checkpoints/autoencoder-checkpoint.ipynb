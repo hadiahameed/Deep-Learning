{
 "cells": [
  {
   "cell_type": "code",
   "execution_count": 1,
   "metadata": {},
   "outputs": [
    {
     "name": "stderr",
     "output_type": "stream",
     "text": [
      "Using TensorFlow backend.\n"
     ]
    }
   ],
   "source": [
    "from keras.datasets import mnist\n",
    "import numpy as np\n",
    "#(x_train, _), (x_test, _) = mnist.load_data()\n",
    "import pandas as pd \n",
    "x_train = pd.read_csv(\"data1.csv\") \n",
    "\n",
    "x_train = x_train.astype('float32')\n",
    "x_train = x_train.dropna()"
   ]
  },
  {
   "cell_type": "code",
   "execution_count": 2,
   "metadata": {},
   "outputs": [],
   "source": [
    "x_train.drop(['Class'], inplace=True, axis=1)\n",
    "from sklearn.model_selection import train_test_split\n",
    "\n",
    "x_train, x_test = train_test_split(x_train, test_size=0.1)\n",
    "\n",
    "x_train = x_train.values\n",
    "x_test = x_test.values"
   ]
  },
  {
   "cell_type": "code",
   "execution_count": null,
   "metadata": {},
   "outputs": [],
   "source": [
    "x_train = x_train.astype('float32') / 255.\n",
    "x_test = x_test.astype('float32') / 255.\n",
    "x_train.shape"
   ]
  },
  {
   "cell_type": "code",
   "execution_count": null,
   "metadata": {},
   "outputs": [],
   "source": [
    "x_train = x_train.reshape(len(x_train), np.prod(x_train.shape[1:]))\n",
    "x_test = x_test.reshape(len(x_test), np.prod(x_test.shape[1:]))\n",
    "print(x_train.shape) \n",
    "print(x_test.shape) "
   ]
  },
  {
   "cell_type": "code",
   "execution_count": 3,
   "metadata": {},
   "outputs": [],
   "source": [
    "from keras.layers import Input, Dense\n",
    "from keras.models import Model\n",
    "\n",
    "# this is the size of our encoded representations\n",
    "encoding_dim = 14  # 32 floats -> compression of factor 24.5, assuming the input is 784 floats\n",
    "\n",
    "# this is our input placeholder\n",
    "input_img = Input(shape=(x_train.shape[1],))\n",
    "# \"encoded\" is the encoded representation of the input\n",
    "encoded = Dense(encoding_dim, activation='relu')(input_img)\n",
    "# \"decoded\" is the lossy reconstruction of the input\n",
    "decoded = Dense(x_train.shape[1], activation='sigmoid')(encoded)\n"
   ]
  },
  {
   "cell_type": "code",
   "execution_count": 4,
   "metadata": {},
   "outputs": [],
   "source": [
    "# this model maps an input to its reconstruction\n",
    "autoencoder = Model(input_img, decoded)"
   ]
  },
  {
   "cell_type": "code",
   "execution_count": 5,
   "metadata": {},
   "outputs": [],
   "source": [
    "# this model maps an input to its encoded representation\n",
    "encoder = Model(input_img, encoded)"
   ]
  },
  {
   "cell_type": "code",
   "execution_count": 6,
   "metadata": {},
   "outputs": [],
   "source": [
    "# create a placeholder for an encoded (32-dimensional) input\n",
    "encoded_input = Input(shape=(encoding_dim,))\n",
    "# retrieve the last layer of the autoencoder model\n",
    "decoder_layer = autoencoder.layers[-1]\n",
    "# create the decoder model\n",
    "decoder = Model(encoded_input, decoder_layer(encoded_input))"
   ]
  },
  {
   "cell_type": "code",
   "execution_count": 7,
   "metadata": {},
   "outputs": [],
   "source": [
    "autoencoder.compile(optimizer='adadelta', loss='mse')"
   ]
  },
  {
   "cell_type": "code",
   "execution_count": 8,
   "metadata": {},
   "outputs": [
    {
     "name": "stdout",
     "output_type": "stream",
     "text": [
      "Train on 256326 samples, validate on 28481 samples\n",
      "Epoch 1/30\n",
      "256326/256326 [==============================] - 2s 6us/step - loss: 0.9491 - val_loss: 0.8813\n",
      "Epoch 2/30\n",
      "256326/256326 [==============================] - 1s 6us/step - loss: 0.8413 - val_loss: 0.8511\n",
      "Epoch 3/30\n",
      "256326/256326 [==============================] - 1s 6us/step - loss: 0.8242 - val_loss: 0.8421\n",
      "Epoch 4/30\n",
      "256326/256326 [==============================] - 1s 5us/step - loss: 0.8183 - val_loss: 0.8381\n",
      "Epoch 5/30\n",
      "256326/256326 [==============================] - 1s 6us/step - loss: 0.8152 - val_loss: 0.8355\n",
      "Epoch 6/30\n",
      "256326/256326 [==============================] - 1s 6us/step - loss: 0.8129 - val_loss: 0.8334\n",
      "Epoch 7/30\n",
      "256326/256326 [==============================] - 1s 6us/step - loss: 0.8109 - val_loss: 0.8316\n",
      "Epoch 8/30\n",
      "256326/256326 [==============================] - 1s 6us/step - loss: 0.8096 - val_loss: 0.8306\n",
      "Epoch 9/30\n",
      "256326/256326 [==============================] - 1s 5us/step - loss: 0.8086 - val_loss: 0.8297\n",
      "Epoch 10/30\n",
      "256326/256326 [==============================] - 1s 5us/step - loss: 0.8078 - val_loss: 0.8289\n",
      "Epoch 11/30\n",
      "256326/256326 [==============================] - 1s 6us/step - loss: 0.8068 - val_loss: 0.8275\n",
      "Epoch 12/30\n",
      "256326/256326 [==============================] - 1s 5us/step - loss: 0.8056 - val_loss: 0.8267\n",
      "Epoch 13/30\n",
      "256326/256326 [==============================] - 1s 6us/step - loss: 0.8050 - val_loss: 0.8263\n",
      "Epoch 14/30\n",
      "256326/256326 [==============================] - 1s 5us/step - loss: 0.8046 - val_loss: 0.8260\n",
      "Epoch 15/30\n",
      "256326/256326 [==============================] - 1s 5us/step - loss: 0.8043 - val_loss: 0.8255\n",
      "Epoch 16/30\n",
      "256326/256326 [==============================] - 1s 5us/step - loss: 0.8039 - val_loss: 0.8252\n",
      "Epoch 17/30\n",
      "256326/256326 [==============================] - 1s 5us/step - loss: 0.8036 - val_loss: 0.8248\n",
      "Epoch 18/30\n",
      "256326/256326 [==============================] - 1s 5us/step - loss: 0.8033 - val_loss: 0.8245\n",
      "Epoch 19/30\n",
      "256326/256326 [==============================] - 1s 5us/step - loss: 0.8028 - val_loss: 0.8239\n",
      "Epoch 20/30\n",
      "256326/256326 [==============================] - 1s 5us/step - loss: 0.8021 - val_loss: 0.8230\n",
      "Epoch 21/30\n",
      "256326/256326 [==============================] - 1s 5us/step - loss: 0.8014 - val_loss: 0.8224\n",
      "Epoch 22/30\n",
      "256326/256326 [==============================] - 1s 5us/step - loss: 0.8010 - val_loss: 0.8220\n",
      "Epoch 23/30\n",
      "256326/256326 [==============================] - 1s 5us/step - loss: 0.8007 - val_loss: 0.8218\n",
      "Epoch 24/30\n",
      "256326/256326 [==============================] - 1s 5us/step - loss: 0.8005 - val_loss: 0.8215\n",
      "Epoch 25/30\n",
      "256326/256326 [==============================] - 1s 5us/step - loss: 0.8003 - val_loss: 0.8213\n",
      "Epoch 26/30\n",
      "256326/256326 [==============================] - 1s 5us/step - loss: 0.8001 - val_loss: 0.8212\n",
      "Epoch 27/30\n",
      "256326/256326 [==============================] - 1s 5us/step - loss: 0.7999 - val_loss: 0.8210\n",
      "Epoch 28/30\n",
      "256326/256326 [==============================] - 1s 5us/step - loss: 0.7998 - val_loss: 0.8209\n",
      "Epoch 29/30\n",
      "256326/256326 [==============================] - 1s 5us/step - loss: 0.7997 - val_loss: 0.8208\n",
      "Epoch 30/30\n",
      "256326/256326 [==============================] - 1s 5us/step - loss: 0.7996 - val_loss: 0.8207\n"
     ]
    },
    {
     "data": {
      "text/plain": [
       "<keras.callbacks.History at 0xb28649278>"
      ]
     },
     "execution_count": 8,
     "metadata": {},
     "output_type": "execute_result"
    }
   ],
   "source": [
    "autoencoder.fit(x_train, x_train,\n",
    "                epochs=30,\n",
    "                batch_size=256,\n",
    "                shuffle=True,\n",
    "                validation_data=(x_test, x_test))"
   ]
  },
  {
   "cell_type": "code",
   "execution_count": 9,
   "metadata": {},
   "outputs": [],
   "source": [
    "encoded_imgs = encoder.predict(x_test)\n",
    "decoded_imgs = decoder.predict(encoded_imgs)"
   ]
  },
  {
   "cell_type": "code",
   "execution_count": null,
   "metadata": {},
   "outputs": [],
   "source": [
    "import matplotlib.pyplot as plt\n",
    "\n",
    "n = 10  # how many digits we will display\n",
    "plt.figure(figsize=(20, 4))\n",
    "for i in range(n):\n",
    "    # display original\n",
    "    ax = plt.subplot(2, n, i + 1)\n",
    "    plt.imshow(x_train[i].reshape(14, 14))\n",
    "    plt.gray()\n",
    "    ax.get_xaxis().set_visible(False)\n",
    "    ax.get_yaxis().set_visible(False)\n",
    "\n",
    "    # display reconstruction\n",
    "    ax = plt.subplot(2, n, i + 1 + n)\n",
    "    plt.imshow(decoded_imgs[i].reshape(14, 14))\n",
    "    plt.gray()\n",
    "    ax.get_xaxis().set_visible(False)\n",
    "    ax.get_yaxis().set_visible(False)\n",
    "plt.show()"
   ]
  },
  {
   "cell_type": "code",
   "execution_count": 11,
   "metadata": {},
   "outputs": [],
   "source": [
    "diff = decoded_imgs - x_test\n",
    "mag = np.zeros(diff.shape[0])"
   ]
  },
  {
   "cell_type": "code",
   "execution_count": 14,
   "metadata": {},
   "outputs": [
    {
     "data": {
      "text/plain": [
       "0.999851"
      ]
     },
     "execution_count": 14,
     "metadata": {},
     "output_type": "execute_result"
    }
   ],
   "source": [
    "decoded_imgs [0,0]"
   ]
  },
  {
   "cell_type": "code",
   "execution_count": 15,
   "metadata": {},
   "outputs": [],
   "source": [
    "\n",
    "for i in range(diff.shape[0]):\n",
    "    mag[i] = np.linalg.norm(diff[i])\n",
    "    \n",
    "new_mag = np.argsort(-mag, axis=0)\n",
    "new_mag = new_mag.astype(int)"
   ]
  },
  {
   "cell_type": "code",
   "execution_count": 16,
   "metadata": {},
   "outputs": [
    {
     "data": {
      "text/plain": [
       "array([11932,  8523, 26916, ..., 18842,  1478,  2546])"
      ]
     },
     "execution_count": 16,
     "metadata": {},
     "output_type": "execute_result"
    }
   ],
   "source": [
    "new_mag"
   ]
  },
  {
   "cell_type": "code",
   "execution_count": null,
   "metadata": {},
   "outputs": [],
   "source": [
    "# use Matplotlib (don't ask)\n",
    "import matplotlib.pyplot as plt\n",
    "\n",
    "n = 10  # how many digits we will display\n",
    "plt.figure(figsize=(20, 4))\n",
    "for i in range(n):\n",
    "    # display original\n",
    "    \n",
    "    ax = plt.subplot(2, n, i + 1)\n",
    "    ii = new_mag[i]\n",
    "    \n",
    "    plt.imshow(x_test[ii].reshape(28, 28))\n",
    "    plt.title(['Index:', ii])\n",
    "    plt.gray()\n",
    "    ax.get_xaxis().set_visible(False)\n",
    "    ax.get_yaxis().set_visible(False)\n",
    "\n",
    "    # display reconstruction\n",
    "    ax = plt.subplot(2, n, i + 1 + n)\n",
    "    plt.imshow(decoded_imgs[ii].reshape(28, 28))\n",
    "    plt.gray()\n",
    "    ax.get_xaxis().set_visible(False)\n",
    "    ax.get_yaxis().set_visible(False)\n",
    "plt.show()"
   ]
  },
  {
   "cell_type": "code",
   "execution_count": null,
   "metadata": {},
   "outputs": [],
   "source": [
    "# encode and decode some digits\n",
    "# note that we take them from the *test* set\n",
    "import matplotlib.pyplot as plt\n",
    "import matplotlib.image as mpimg\n",
    "from resizeimage import resizeimage\n",
    "\n",
    "def rgb2gray(rgb):\n",
    "    return np.dot(rgb[...,:3], [0.2989, 0.5870, 0.1140])\n",
    "\n",
    "\n",
    "cat_rgb=mpimg.imread('face.png')\n",
    "cat_gray = rgb2gray(cat_rgb)\n",
    "\n",
    "plt.imshow(cat_gray, cmap=plt.get_cmap('gray'), vmin=0, vmax=1)\n",
    "plt.show()"
   ]
  },
  {
   "cell_type": "code",
   "execution_count": null,
   "metadata": {},
   "outputs": [],
   "source": [
    "from PIL import Image\n",
    "from resizeimage import resizeimage\n",
    "\n",
    "x=Image.open('face.png','r')\n",
    "x=x.convert('L') #makes it greyscale\n",
    "x = resizeimage.resize_cover(x, [28, 28])\n",
    "y=np.asarray(x.getdata(),dtype=np.float64).reshape((x.size[1],x.size[0]))\n"
   ]
  },
  {
   "cell_type": "code",
   "execution_count": null,
   "metadata": {},
   "outputs": [],
   "source": [
    "yy = y.reshape(1, 784)"
   ]
  },
  {
   "cell_type": "code",
   "execution_count": null,
   "metadata": {},
   "outputs": [],
   "source": [
    "encoded_imgs = encoder.predict(yy)\n",
    "decoded_imgs = decoder.predict(encoded_imgs)"
   ]
  },
  {
   "cell_type": "code",
   "execution_count": null,
   "metadata": {},
   "outputs": [],
   "source": [
    "# display original\n",
    "ax = plt.subplot(2, 1, 1)\n",
    "plt.imshow(yy.reshape(28, 28))\n",
    "plt.gray()\n",
    "ax.get_xaxis().set_visible(False)\n",
    "ax.get_yaxis().set_visible(False)\n",
    "\n",
    "# display reconstruction\n",
    "ax = plt.subplot(2, 1, 2)\n",
    "plt.imshow(decoded_imgs.reshape(28, 28))\n",
    "plt.gray()\n",
    "ax.get_xaxis().set_visible(False)\n",
    "ax.get_yaxis().set_visible(False)\n",
    "plt.show()"
   ]
  },
  {
   "cell_type": "markdown",
   "metadata": {},
   "source": [
    "# Deep AutoEncoder"
   ]
  },
  {
   "cell_type": "code",
   "execution_count": null,
   "metadata": {},
   "outputs": [],
   "source": []
  },
  {
   "cell_type": "code",
   "execution_count": null,
   "metadata": {},
   "outputs": [],
   "source": [
    "input_img = Input(shape=(784,))\n",
    "encoded = Dense(128, activation='relu')(input_img)\n",
    "encoded = Dense(32, activation='relu')(encoded)\n",
    "\n",
    "\n",
    "decoded = Dense(128, activation='relu')(encoded)\n",
    "decoded = Dense(784, activation='sigmoid')(decoded)"
   ]
  },
  {
   "cell_type": "code",
   "execution_count": null,
   "metadata": {},
   "outputs": [],
   "source": [
    "autoencoder = Model(input_img, decoded)\n",
    "\n",
    "encoder = Model(input_img, encoded)\n",
    "encoded_input = Input(shape=(32,))\n",
    "decoder_layer1 = autoencoder.layers[-2]\n",
    "decoder_layer2 = autoencoder.layers[-1]\n"
   ]
  },
  {
   "cell_type": "code",
   "execution_count": null,
   "metadata": {},
   "outputs": [],
   "source": [
    "decoder = Model(encoded_input,  ( (decoder_layer2(decoder_layer1(encoded_input))) ) )\n",
    "\n",
    "autoencoder.compile(optimizer='adadelta', loss='binary_crossentropy')\n",
    "\n",
    "autoencoder.fit(x_train, x_train,\n",
    "                epochs=10,\n",
    "                batch_size=256,\n",
    "                shuffle=True,\n",
    "                validation_data=(x_test, x_test))"
   ]
  },
  {
   "cell_type": "code",
   "execution_count": null,
   "metadata": {},
   "outputs": [],
   "source": []
  },
  {
   "cell_type": "code",
   "execution_count": null,
   "metadata": {},
   "outputs": [],
   "source": [
    "# encode and decode some digits\n",
    "# note that we take them from the *test* set\n",
    "encoded_imgs = encoder.predict(x_test)\n",
    "decoded_imgs = decoder.predict(encoded_imgs)"
   ]
  },
  {
   "cell_type": "code",
   "execution_count": null,
   "metadata": {},
   "outputs": [],
   "source": [
    "# use Matplotlib (don't ask)\n",
    "import matplotlib.pyplot as plt\n",
    "\n",
    "n = 10  # how many digits we will display\n",
    "plt.figure(figsize=(20, 4))\n",
    "for i in range(n):\n",
    "    # display original\n",
    "    ax = plt.subplot(2, n, i + 1)\n",
    "    plt.imshow(x_test[i].reshape(28, 28))\n",
    "    plt.gray()\n",
    "    ax.get_xaxis().set_visible(False)\n",
    "    ax.get_yaxis().set_visible(False)\n",
    "\n",
    "    # display reconstruction\n",
    "    ax = plt.subplot(2, n, i + 1 + n)\n",
    "    plt.imshow(decoded_imgs[i].reshape(28, 28))\n",
    "    plt.gray()\n",
    "    ax.get_xaxis().set_visible(False)\n",
    "    ax.get_yaxis().set_visible(False)\n",
    "plt.show()"
   ]
  },
  {
   "cell_type": "code",
   "execution_count": null,
   "metadata": {},
   "outputs": [],
   "source": []
  },
  {
   "cell_type": "code",
   "execution_count": null,
   "metadata": {},
   "outputs": [],
   "source": []
  }
 ],
 "metadata": {
  "kernelspec": {
   "display_name": "Python 3",
   "language": "python",
   "name": "python3"
  },
  "language_info": {
   "codemirror_mode": {
    "name": "ipython",
    "version": 3
   },
   "file_extension": ".py",
   "mimetype": "text/x-python",
   "name": "python",
   "nbconvert_exporter": "python",
   "pygments_lexer": "ipython3",
   "version": "3.6.8"
  }
 },
 "nbformat": 4,
 "nbformat_minor": 2
}
