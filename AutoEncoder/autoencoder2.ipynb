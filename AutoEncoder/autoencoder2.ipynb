{
 "cells": [
  {
   "cell_type": "code",
   "execution_count": 1,
   "metadata": {},
   "outputs": [
    {
     "name": "stderr",
     "output_type": "stream",
     "text": [
      "Using TensorFlow backend.\n"
     ]
    }
   ],
   "source": [
    "from keras.datasets import mnist\n",
    "import numpy as np\n",
    "(x_train, _), (x_test, _) = mnist.load_data()"
   ]
  },
  {
   "cell_type": "code",
   "execution_count": 2,
   "metadata": {},
   "outputs": [
    {
     "name": "stdout",
     "output_type": "stream",
     "text": [
      "(60000, 784)\n",
      "(10000, 784)\n"
     ]
    }
   ],
   "source": [
    "x_train = x_train.astype('float32') / 255.\n",
    "x_test = x_test.astype('float32') / 255.\n",
    "x_train = x_train.reshape((len(x_train), np.prod(x_train.shape[1:])))\n",
    "x_test = x_test.reshape((len(x_test), np.prod(x_test.shape[1:])))\n",
    "print(x_train.shape) \n",
    "print(x_test.shape) "
   ]
  },
  {
   "cell_type": "code",
   "execution_count": 3,
   "metadata": {},
   "outputs": [],
   "source": [
    "from keras.layers import Input, Dense\n",
    "from keras.models import Model, Sequential"
   ]
  },
  {
   "cell_type": "code",
   "execution_count": 4,
   "metadata": {},
   "outputs": [
    {
     "name": "stdout",
     "output_type": "stream",
     "text": [
      "Compression factor: 24.5\n"
     ]
    }
   ],
   "source": [
    "# input dimension = 784\n",
    "input_dim = x_train.shape[1]\n",
    "encoding_dim = 32\n",
    "\n",
    "compression_factor = float(input_dim) / encoding_dim\n",
    "print(\"Compression factor: %s\" % compression_factor)\n",
    "\n",
    "\n"
   ]
  },
  {
   "cell_type": "code",
   "execution_count": null,
   "metadata": {},
   "outputs": [],
   "source": [
    "autoencoder = Sequential()\n",
    "autoencoder.add(\n",
    "    Dense(encoding_dim, input_shape=(input_dim,), activation='relu')\n",
    ")\n",
    "autoencoder.add(\n",
    "    Dense(input_dim, activation='sigmoid')\n",
    ")\n",
    "\n",
    "autoencoder.summary()"
   ]
  },
  {
   "cell_type": "code",
   "execution_count": null,
   "metadata": {},
   "outputs": [],
   "source": [
    "input_img = Input(shape=(input_dim,))\n",
    "encoder_layer = autoencoder.layers[0]\n",
    "encoder = Model(input_img, encoder_layer(input_img))\n",
    "\n",
    "encoder.summary()\n"
   ]
  },
  {
   "cell_type": "code",
   "execution_count": 10,
   "metadata": {},
   "outputs": [
    {
     "name": "stdout",
     "output_type": "stream",
     "text": [
      "Train on 60000 samples, validate on 10000 samples\n",
      "Epoch 1/50\n",
      "60000/60000 [==============================] - 9s 143us/step - loss: 0.2503 - val_loss: 0.1932\n",
      "Epoch 2/50\n",
      "60000/60000 [==============================] - 8s 134us/step - loss: 0.1661 - val_loss: 0.1485\n",
      "Epoch 3/50\n",
      "60000/60000 [==============================] - 8s 134us/step - loss: 0.1423 - val_loss: 0.1343\n",
      "Epoch 4/50\n",
      "60000/60000 [==============================] - 8s 133us/step - loss: 0.1299 - val_loss: 0.1250\n",
      "Epoch 5/50\n",
      "60000/60000 [==============================] - 8s 134us/step - loss: 0.1210 - val_loss: 0.1174\n",
      "Epoch 6/50\n",
      "60000/60000 [==============================] - 9s 146us/step - loss: 0.1149 - val_loss: 0.1116\n",
      "Epoch 7/50\n",
      "60000/60000 [==============================] - 8s 134us/step - loss: 0.1111 - val_loss: 0.1087\n",
      "Epoch 8/50\n",
      "60000/60000 [==============================] - 8s 139us/step - loss: 0.1084 - val_loss: 0.1059\n",
      "Epoch 9/50\n",
      "60000/60000 [==============================] - 8s 131us/step - loss: 0.1056 - val_loss: 0.1041\n",
      "Epoch 10/50\n",
      "60000/60000 [==============================] - 8s 133us/step - loss: 0.1035 - val_loss: 0.1020\n",
      "Epoch 11/50\n",
      "60000/60000 [==============================] - 8s 134us/step - loss: 0.1017 - val_loss: 0.1004\n",
      "Epoch 12/50\n",
      "60000/60000 [==============================] - 8s 135us/step - loss: 0.1000 - val_loss: 0.0985\n",
      "Epoch 13/50\n",
      "60000/60000 [==============================] - 8s 134us/step - loss: 0.0985 - val_loss: 0.0973\n",
      "Epoch 14/50\n",
      "60000/60000 [==============================] - 8s 135us/step - loss: 0.0972 - val_loss: 0.0977\n",
      "Epoch 15/50\n",
      "60000/60000 [==============================] - 8s 137us/step - loss: 0.0959 - val_loss: 0.0952\n",
      "Epoch 16/50\n",
      "60000/60000 [==============================] - 8s 136us/step - loss: 0.0949 - val_loss: 0.0945\n",
      "Epoch 17/50\n",
      "60000/60000 [==============================] - 9s 150us/step - loss: 0.0938 - val_loss: 0.0937\n",
      "Epoch 18/50\n",
      "60000/60000 [==============================] - 8s 140us/step - loss: 0.0931 - val_loss: 0.0927\n",
      "Epoch 19/50\n",
      "60000/60000 [==============================] - 8s 136us/step - loss: 0.0923 - val_loss: 0.0927\n",
      "Epoch 20/50\n",
      "60000/60000 [==============================] - 9s 142us/step - loss: 0.0915 - val_loss: 0.0914\n",
      "Epoch 21/50\n",
      "60000/60000 [==============================] - 9s 148us/step - loss: 0.0908 - val_loss: 0.0910\n",
      "Epoch 22/50\n",
      "60000/60000 [==============================] - 9s 144us/step - loss: 0.0903 - val_loss: 0.0904\n",
      "Epoch 23/50\n",
      "60000/60000 [==============================] - 9s 150us/step - loss: 0.0898 - val_loss: 0.0898\n",
      "Epoch 24/50\n",
      "60000/60000 [==============================] - 9s 155us/step - loss: 0.0893 - val_loss: 0.0894\n",
      "Epoch 25/50\n",
      "60000/60000 [==============================] - 8s 133us/step - loss: 0.0887 - val_loss: 0.0888\n",
      "Epoch 26/50\n",
      "60000/60000 [==============================] - 9s 153us/step - loss: 0.0883 - val_loss: 0.0884\n",
      "Epoch 27/50\n",
      "60000/60000 [==============================] - 9s 153us/step - loss: 0.0878 - val_loss: 0.0884\n",
      "Epoch 28/50\n",
      "60000/60000 [==============================] - 10s 172us/step - loss: 0.0875 - val_loss: 0.0880\n",
      "Epoch 29/50\n",
      "60000/60000 [==============================] - 9s 145us/step - loss: 0.0870 - val_loss: 0.0874\n",
      "Epoch 30/50\n",
      "60000/60000 [==============================] - 8s 134us/step - loss: 0.0866 - val_loss: 0.0873\n",
      "Epoch 31/50\n",
      "60000/60000 [==============================] - 9s 148us/step - loss: 0.0862 - val_loss: 0.0875\n",
      "Epoch 32/50\n",
      "60000/60000 [==============================] - 10s 167us/step - loss: 0.0860 - val_loss: 0.0866\n",
      "Epoch 33/50\n",
      "60000/60000 [==============================] - 9s 143us/step - loss: 0.0855 - val_loss: 0.0873\n",
      "Epoch 34/50\n",
      "60000/60000 [==============================] - 9s 153us/step - loss: 0.0854 - val_loss: 0.0861\n",
      "Epoch 35/50\n",
      "60000/60000 [==============================] - 9s 143us/step - loss: 0.0850 - val_loss: 0.0857\n",
      "Epoch 36/50\n",
      "60000/60000 [==============================] - 9s 144us/step - loss: 0.0848 - val_loss: 0.0857\n",
      "Epoch 37/50\n",
      "60000/60000 [==============================] - 9s 149us/step - loss: 0.0847 - val_loss: 0.0867\n",
      "Epoch 38/50\n",
      "60000/60000 [==============================] - 9s 146us/step - loss: 0.0844 - val_loss: 0.0853\n",
      "Epoch 39/50\n",
      "60000/60000 [==============================] - 8s 138us/step - loss: 0.0843 - val_loss: 0.0853\n",
      "Epoch 40/50\n",
      "60000/60000 [==============================] - 9s 144us/step - loss: 0.0840 - val_loss: 0.0854\n",
      "Epoch 41/50\n",
      "60000/60000 [==============================] - 8s 136us/step - loss: 0.0839 - val_loss: 0.0851\n",
      "Epoch 42/50\n",
      "60000/60000 [==============================] - 8s 140us/step - loss: 0.0837 - val_loss: 0.0851\n",
      "Epoch 43/50\n",
      "60000/60000 [==============================] - 8s 138us/step - loss: 0.0835 - val_loss: 0.0850\n",
      "Epoch 44/50\n",
      "60000/60000 [==============================] - 8s 133us/step - loss: 0.0834 - val_loss: 0.0850\n",
      "Epoch 45/50\n",
      "60000/60000 [==============================] - 8s 132us/step - loss: 0.0833 - val_loss: 0.0841\n",
      "Epoch 46/50\n",
      "60000/60000 [==============================] - 9s 148us/step - loss: 0.0831 - val_loss: 0.0844\n",
      "Epoch 47/50\n",
      "60000/60000 [==============================] - 9s 144us/step - loss: 0.0829 - val_loss: 0.0845\n",
      "Epoch 48/50\n",
      "60000/60000 [==============================] - 8s 135us/step - loss: 0.0827 - val_loss: 0.0842\n",
      "Epoch 49/50\n",
      "60000/60000 [==============================] - 11s 177us/step - loss: 0.0827 - val_loss: 0.0845\n",
      "Epoch 50/50\n",
      "60000/60000 [==============================] - 10s 161us/step - loss: 0.0824 - val_loss: 0.0835\n"
     ]
    },
    {
     "data": {
      "text/plain": [
       "<keras.callbacks.History at 0xb25975c88>"
      ]
     },
     "execution_count": 10,
     "metadata": {},
     "output_type": "execute_result"
    }
   ],
   "source": [
    "autoencoder.compile(optimizer='adam', loss='binary_crossentropy')\n",
    "autoencoder.fit(x_train, x_train,\n",
    "                epochs=50,\n",
    "                batch_size=256,\n",
    "                shuffle=True,\n",
    "                validation_data=(x_test, x_test))\n"
   ]
  },
  {
   "cell_type": "code",
   "execution_count": 12,
   "metadata": {},
   "outputs": [
    {
     "data": {
      "image/png": "[encoded data removed]",
      "text/plain": [
       "<Figure size 1296x288 with 30 Axes>"
      ]
     },
     "metadata": {
      "needs_background": "light"
     },
     "output_type": "display_data"
    }
   ],
   "source": [
    "num_images = 10\n",
    "np.random.seed(42)\n",
    "random_test_images = np.random.randint(x_test.shape[0], size=num_images)\n",
    "\n",
    "encoded_imgs = encoder.predict(x_test)\n",
    "decoded_imgs = autoencoder.predict(x_test)\n",
    "\n",
    "import matplotlib.pyplot as plt\n",
    "plt.figure(figsize=(18, 4))\n",
    "\n",
    "for i, image_idx in enumerate(random_test_images):\n",
    "    # plot original image\n",
    "    ax = plt.subplot(3, num_images, i + 1)\n",
    "    plt.imshow(x_test[image_idx].reshape(28, 28))\n",
    "    plt.gray()\n",
    "    ax.get_xaxis().set_visible(False)\n",
    "    ax.get_yaxis().set_visible(False)\n",
    "    \n",
    "    # plot encoded image\n",
    "    ax = plt.subplot(3, num_images, num_images + i + 1)\n",
    "    plt.imshow(encoded_imgs[image_idx].reshape(8, 4))\n",
    "    plt.gray()\n",
    "    ax.get_xaxis().set_visible(False)\n",
    "    ax.get_yaxis().set_visible(False)\n",
    "\n",
    "    # plot reconstructed image\n",
    "    ax = plt.subplot(3, num_images, 2*num_images + i + 1)\n",
    "    plt.imshow(decoded_imgs[image_idx].reshape(28, 28))\n",
    "    plt.gray()\n",
    "    ax.get_xaxis().set_visible(False)\n",
    "    ax.get_yaxis().set_visible(False)\n",
    "plt.show()"
   ]
  },
  {
   "cell_type": "markdown",
   "metadata": {},
   "source": [
    "# Deep AutoEncoder"
   ]
  },
  {
   "cell_type": "code",
   "execution_count": null,
   "metadata": {},
   "outputs": [],
   "source": [
    "del autoencoder"
   ]
  },
  {
   "cell_type": "code",
   "execution_count": 5,
   "metadata": {},
   "outputs": [
    {
     "name": "stdout",
     "output_type": "stream",
     "text": [
      "_________________________________________________________________\n",
      "Layer (type)                 Output Shape              Param #   \n",
      "=================================================================\n",
      "dense_1 (Dense)              (None, 320)               251200    \n",
      "_________________________________________________________________\n",
      "dense_2 (Dense)              (None, 192)               61632     \n",
      "_________________________________________________________________\n",
      "dense_3 (Dense)              (None, 128)               24704     \n",
      "_________________________________________________________________\n",
      "dense_4 (Dense)              (None, 64)                8256      \n",
      "_________________________________________________________________\n",
      "dense_5 (Dense)              (None, 32)                2080      \n",
      "_________________________________________________________________\n",
      "dense_6 (Dense)              (None, 64)                2112      \n",
      "_________________________________________________________________\n",
      "dense_7 (Dense)              (None, 128)               8320      \n",
      "_________________________________________________________________\n",
      "dense_8 (Dense)              (None, 192)               24768     \n",
      "_________________________________________________________________\n",
      "dense_9 (Dense)              (None, 320)               61760     \n",
      "_________________________________________________________________\n",
      "dense_10 (Dense)             (None, 784)               251664    \n",
      "=================================================================\n",
      "Total params: 696,496\n",
      "Trainable params: 696,496\n",
      "Non-trainable params: 0\n",
      "_________________________________________________________________\n"
     ]
    }
   ],
   "source": [
    "autoencoder = Sequential()\n",
    "\n",
    "# Encoder Layers\n",
    "autoencoder.add(Dense(10 * encoding_dim, input_shape=(input_dim,), activation='relu'))\n",
    "autoencoder.add(Dense(6 * encoding_dim, activation='relu'))\n",
    "autoencoder.add(Dense(4 * encoding_dim, activation='relu'))\n",
    "autoencoder.add(Dense(2 * encoding_dim, activation='relu'))\n",
    "autoencoder.add(Dense(encoding_dim, activation='relu'))\n",
    "\n",
    "# Decoder Layers\n",
    "autoencoder.add(Dense(2 * encoding_dim, activation='relu'))\n",
    "autoencoder.add(Dense(4 * encoding_dim, activation='relu'))\n",
    "autoencoder.add(Dense(6 * encoding_dim, activation='relu'))\n",
    "autoencoder.add(Dense(10 * encoding_dim, activation='relu'))\n",
    "autoencoder.add(Dense(input_dim, activation='sigmoid'))\n",
    "\n",
    "autoencoder.summary()\n"
   ]
  },
  {
   "cell_type": "code",
   "execution_count": 6,
   "metadata": {},
   "outputs": [
    {
     "name": "stdout",
     "output_type": "stream",
     "text": [
      "_________________________________________________________________\n",
      "Layer (type)                 Output Shape              Param #   \n",
      "=================================================================\n",
      "input_1 (InputLayer)         (None, 784)               0         \n",
      "_________________________________________________________________\n",
      "dense_1 (Dense)              (None, 320)               251200    \n",
      "_________________________________________________________________\n",
      "dense_2 (Dense)              (None, 192)               61632     \n",
      "_________________________________________________________________\n",
      "dense_3 (Dense)              (None, 128)               24704     \n",
      "_________________________________________________________________\n",
      "dense_4 (Dense)              (None, 64)                8256      \n",
      "_________________________________________________________________\n",
      "dense_5 (Dense)              (None, 32)                2080      \n",
      "=================================================================\n",
      "Total params: 347,872\n",
      "Trainable params: 347,872\n",
      "Non-trainable params: 0\n",
      "_________________________________________________________________\n"
     ]
    }
   ],
   "source": [
    "input_img = Input(shape=(input_dim,))\n",
    "encoder_layer1 = autoencoder.layers[0]\n",
    "encoder_layer2 = autoencoder.layers[1]\n",
    "encoder_layer3 = autoencoder.layers[2]\n",
    "encoder_layer4 = autoencoder.layers[3]\n",
    "encoder_layer5 = autoencoder.layers[4]\n",
    "encoder = Model(input_img, encoder_layer5(encoder_layer4(encoder_layer3(encoder_layer2(encoder_layer1(input_img))))))\n",
    "\n",
    "\n",
    "encoder.summary()\n"
   ]
  },
  {
   "cell_type": "code",
   "execution_count": 8,
   "metadata": {},
   "outputs": [
    {
     "name": "stdout",
     "output_type": "stream",
     "text": [
      "_________________________________________________________________\n",
      "Layer (type)                 Output Shape              Param #   \n",
      "=================================================================\n",
      "input_2 (InputLayer)         (None, 32)                0         \n",
      "_________________________________________________________________\n",
      "dense_6 (Dense)              (None, 64)                2112      \n",
      "_________________________________________________________________\n",
      "dense_7 (Dense)              (None, 128)               8320      \n",
      "_________________________________________________________________\n",
      "dense_8 (Dense)              (None, 192)               24768     \n",
      "_________________________________________________________________\n",
      "dense_9 (Dense)              (None, 320)               61760     \n",
      "_________________________________________________________________\n",
      "dense_10 (Dense)             (None, 784)               251664    \n",
      "=================================================================\n",
      "Total params: 348,624\n",
      "Trainable params: 348,624\n",
      "Non-trainable params: 0\n",
      "_________________________________________________________________\n"
     ]
    }
   ],
   "source": [
    "\n",
    "encoded_input = Input(shape=(encoding_dim,))\n",
    "decoder_layer1=autoencoder.layers[-5]\n",
    "decoder_layer2=autoencoder.layers[-4]\n",
    "decoder_layer3=autoencoder.layers[-3]\n",
    "decoder_layer4=autoencoder.layers[-2]\n",
    "decoder_layer5=autoencoder.layers[-1]\n",
    "decoder=Model(encoded_input,  decoder_layer5(decoder_layer4(decoder_layer3(decoder_layer2(decoder_layer1(encoded_input))))))\n",
    "decoder.summary()"
   ]
  },
  {
   "cell_type": "code",
   "execution_count": 9,
   "metadata": {},
   "outputs": [],
   "source": [
    "def decoder(encoded_input):\n",
    "    h=Dense(inter_encoding_dim, activation='relu')(encoded_input)\n",
    "    decoded= Dense(input_dim, activation='sigmoid')(h)\n",
    "    return decoded\n"
   ]
  },
  {
   "cell_type": "markdown",
   "metadata": {},
   "source": [
    "# Convolutional Autoencoder\n"
   ]
  },
  {
   "cell_type": "code",
   "execution_count": null,
   "metadata": {},
   "outputs": [],
   "source": [
    "# For image convolution, we first need to recover the orignal image size\n",
    "x_train = x_train.reshape((len(x_train), 28, 28, 1))\n",
    "x_test = x_test.reshape((len(x_test), 28, 28, 1))\n",
    "x_train.shape"
   ]
  },
  {
   "cell_type": "code",
   "execution_count": null,
   "metadata": {},
   "outputs": [],
   "source": [
    "from keras.layers import Input, Dense, Conv2D, MaxPooling2D, UpSampling2D, Flatten, Reshape\n",
    "from keras import regularizers\n",
    "autoencoder = Sequential()\n",
    "\n",
    "# Encoder Layers\n",
    "autoencoder.add(Conv2D(16, (3, 3), activation='relu', padding='same', input_shape=x_train.shape[1:]))\n",
    "autoencoder.add(MaxPooling2D((2, 2), padding='same'))\n",
    "autoencoder.add(Conv2D(8, (3, 3), activation='relu', padding='same'))\n",
    "autoencoder.add(MaxPooling2D((2, 2), padding='same'))\n",
    "autoencoder.add(Conv2D(8, (3, 3), strides=(2,2), activation='relu', padding='same'))\n",
    "\n",
    "# Flatten encoding for visualization\n",
    "autoencoder.add(Flatten())\n",
    "autoencoder.add(Reshape((4, 4, 8)))\n",
    "\n",
    "# Decoder Layers\n",
    "autoencoder.add(Conv2D(8, (3, 3), activation='relu', padding='same'))\n",
    "autoencoder.add(UpSampling2D((2, 2)))\n",
    "autoencoder.add(Conv2D(8, (3, 3), activation='relu', padding='same'))\n",
    "autoencoder.add(UpSampling2D((2, 2)))\n",
    "autoencoder.add(Conv2D(16, (3, 3), activation='relu'))\n",
    "autoencoder.add(UpSampling2D((2, 2)))\n",
    "autoencoder.add(Conv2D(1, (3, 3), activation='sigmoid', padding='same'))\n",
    "\n",
    "autoencoder.summary()\n",
    "\n"
   ]
  },
  {
   "cell_type": "code",
   "execution_count": null,
   "metadata": {},
   "outputs": [],
   "source": [
    "encoder = Model(inputs=autoencoder.input, outputs=autoencoder.get_layer('flatten_3').output)\n",
    "encoder.summary()"
   ]
  },
  {
   "cell_type": "code",
   "execution_count": null,
   "metadata": {},
   "outputs": [],
   "source": [
    "autoencoder.compile(optimizer='adam', loss='binary_crossentropy')\n",
    "autoencoder.fit(x_train, x_train,\n",
    "                epochs=100,\n",
    "                batch_size=128,\n",
    "                validation_data=(x_test, x_test))\n"
   ]
  },
  {
   "cell_type": "markdown",
   "metadata": {},
   "source": [
    "# Denoising Images with the Convolutional Autoencoder"
   ]
  },
  {
   "cell_type": "code",
   "execution_count": null,
   "metadata": {},
   "outputs": [],
   "source": [
    "x_train_noisy = x_train + np.random.normal(loc=0.0, scale=0.5, size=x_train.shape)\n",
    "x_train_noisy = np.clip(x_train_noisy, 0., 1.)\n",
    "\n",
    "x_test_noisy = x_test + np.random.normal(loc=0.0, scale=0.5, size=x_test.shape)\n",
    "x_test_noisy = np.clip(x_test_noisy, 0., 1.)\n",
    "\n",
    "num_images = 10\n",
    "np.random.seed(42)\n",
    "random_test_images = np.random.randint(x_test.shape[0], size=num_images)\n",
    "\n",
    "# Denoise test images\n",
    "x_test_denoised = autoencoder.predict(x_test_noisy)\n",
    "\n",
    "plt.figure(figsize=(18, 4))\n",
    "\n",
    "for i, image_idx in enumerate(random_test_images):\n",
    "    # plot original image\n",
    "    ax = plt.subplot(2, num_images, i + 1)\n",
    "    plt.imshow(x_test_noisy[image_idx].reshape(28, 28))\n",
    "    plt.gray()\n",
    "    ax.get_xaxis().set_visible(False)\n",
    "    ax.get_yaxis().set_visible(False)\n",
    "    \n",
    "    # plot reconstructed image\n",
    "    ax = plt.subplot(2, num_images, num_images + i + 1)\n",
    "    plt.imshow(x_test_denoised[image_idx].reshape(28, 28))\n",
    "    plt.gray()\n",
    "    ax.get_xaxis().set_visible(False)\n",
    "    ax.get_yaxis().set_visible(False)\n",
    "plt.show()"
   ]
  },
  {
   "cell_type": "markdown",
   "metadata": {},
   "source": [
    "# Convolutional Autoencoder - Revisit\n",
    "This time, we use (x_train_noisy, x_train) as training data and (x_test_noisy, x_test) as validation data. In doing so, we’re teaching the autoencoder how to denoise the input images."
   ]
  },
  {
   "cell_type": "code",
   "execution_count": null,
   "metadata": {},
   "outputs": [],
   "source": [
    "autoencoder = Sequential()\n",
    "\n",
    "# Encoder Layers\n",
    "autoencoder.add(Conv2D(32, (3, 3), activation='relu', padding='same', input_shape=x_train.shape[1:]))\n",
    "autoencoder.add(MaxPooling2D((2, 2), padding='same'))\n",
    "autoencoder.add(Conv2D(32, (3, 3), activation='relu', padding='same'))\n",
    "autoencoder.add(MaxPooling2D((2, 2), padding='same'))\n",
    "\n",
    "# Decoder Layers\n",
    "autoencoder.add(Conv2D(32, (3, 3), activation='relu', padding='same'))\n",
    "autoencoder.add(UpSampling2D((2, 2)))\n",
    "autoencoder.add(Conv2D(32, (3, 3), activation='relu', padding='same'))\n",
    "autoencoder.add(UpSampling2D((2, 2)))\n",
    "autoencoder.add(Conv2D(1, (3, 3), activation='sigmoid', padding='same'))\n",
    "\n",
    "autoencoder.summary()\n"
   ]
  },
  {
   "cell_type": "code",
   "execution_count": null,
   "metadata": {},
   "outputs": [],
   "source": []
  },
  {
   "cell_type": "code",
   "execution_count": null,
   "metadata": {},
   "outputs": [],
   "source": []
  }
 ],
 "metadata": {
  "kernelspec": {
   "display_name": "Python 3",
   "language": "python",
   "name": "python3"
  },
  "language_info": {
   "codemirror_mode": {
    "name": "ipython",
    "version": 3
   },
   "file_extension": ".py",
   "mimetype": "text/x-python",
   "name": "python",
   "nbconvert_exporter": "python",
   "pygments_lexer": "ipython3",
   "version": "3.6.8"
  }
 },
 "nbformat": 4,
 "nbformat_minor": 2
}
