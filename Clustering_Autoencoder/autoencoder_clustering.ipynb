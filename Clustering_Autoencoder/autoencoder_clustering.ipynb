{
 "cells": [
  {
   "cell_type": "code",
   "execution_count": 1,
   "metadata": {},
   "outputs": [],
   "source": [
    "import numpy as np\n",
    "from sklearn.model_selection import train_test_split\n",
    "import pandas as pd \n",
    "\n",
    "x_data = pd.read_csv(\"data1.csv\")\n",
    "x_data = x_data.dropna()\n",
    "x_data = x_data.astype('float32')\n",
    "y_data = x_data['Class']\n",
    "y_data = y_data.astype(int)\n",
    "x_data.drop(['Class'], inplace=True, axis=1)\n",
    "\n",
    "\n",
    "x_train, x_test, y_train, y_test = train_test_split(x_data, y_data, test_size=0.2, random_state=0, stratify=y_data)\n",
    "\n",
    "x_data = x_data.values\n",
    "x_train = x_train.values\n",
    "x_test = x_test.values"
   ]
  },
  {
   "cell_type": "code",
   "execution_count": 2,
   "metadata": {},
   "outputs": [
    {
     "name": "stderr",
     "output_type": "stream",
     "text": [
      "Using TensorFlow backend.\n"
     ]
    }
   ],
   "source": [
    "from keras.layers import Input, Dense\n",
    "from keras.models import Model\n",
    "\n",
    "# this is the size of our encoded representations\n",
    "encoding_dim = 2 \n",
    "\n",
    "# this is our input placeholder\n",
    "input_img = Input(shape=(28,))\n",
    "# \"encoded\" is the encoded representation of the input\n",
    "encoded = Dense(encoding_dim, activation='relu')(input_img)\n",
    "# \"decoded\" is the lossy reconstruction of the input\n",
    "decoded = Dense(28, activation='sigmoid')(encoded)"
   ]
  },
  {
   "cell_type": "code",
   "execution_count": 3,
   "metadata": {},
   "outputs": [],
   "source": [
    "# this model maps an input to its reconstruction\n",
    "autoencoder = Model(input_img, decoded)\n",
    "# this model maps an input to its encoded representation\n",
    "encoder = Model(input_img, encoded)\n",
    "# create a placeholder for an encoded (32-dimensional) input\n",
    "encoded_input = Input(shape=(encoding_dim,))\n",
    "# retrieve the last layer of the autoencoder model\n",
    "decoder_layer = autoencoder.layers[-1]\n",
    "# create the decoder model\n",
    "decoder = Model(encoded_input, decoder_layer(encoded_input))\n"
   ]
  },
  {
   "cell_type": "code",
   "execution_count": 4,
   "metadata": {},
   "outputs": [
    {
     "name": "stdout",
     "output_type": "stream",
     "text": [
      "Train on 227845 samples, validate on 56962 samples\n",
      "Epoch 1/20\n",
      "227845/227845 [==============================] - 1s 6us/step - loss: 1.1135 - val_loss: 1.0642\n",
      "Epoch 2/20\n",
      "227845/227845 [==============================] - 1s 5us/step - loss: 1.0428 - val_loss: 1.0366\n",
      "Epoch 3/20\n",
      "227845/227845 [==============================] - 1s 5us/step - loss: 1.0203 - val_loss: 1.0238\n",
      "Epoch 4/20\n",
      "227845/227845 [==============================] - 1s 5us/step - loss: 1.0122 - val_loss: 1.0188\n",
      "Epoch 5/20\n",
      "227845/227845 [==============================] - 1s 5us/step - loss: 1.0090 - val_loss: 1.0166\n",
      "Epoch 6/20\n",
      "227845/227845 [==============================] - 1s 5us/step - loss: 1.0072 - val_loss: 1.0151\n",
      "Epoch 7/20\n",
      "227845/227845 [==============================] - 1s 5us/step - loss: 1.0059 - val_loss: 1.0140\n",
      "Epoch 8/20\n",
      "227845/227845 [==============================] - 1s 5us/step - loss: 1.0050 - val_loss: 1.0132\n",
      "Epoch 9/20\n",
      "227845/227845 [==============================] - 1s 5us/step - loss: 1.0044 - val_loss: 1.0126\n",
      "Epoch 10/20\n",
      "227845/227845 [==============================] - 1s 5us/step - loss: 1.0038 - val_loss: 1.0121\n",
      "Epoch 11/20\n",
      "227845/227845 [==============================] - 1s 5us/step - loss: 1.0034 - val_loss: 1.0117\n",
      "Epoch 12/20\n",
      "227845/227845 [==============================] - 1s 5us/step - loss: 1.0030 - val_loss: 1.0114\n",
      "Epoch 13/20\n",
      "227845/227845 [==============================] - 1s 5us/step - loss: 1.0027 - val_loss: 1.0111\n",
      "Epoch 14/20\n",
      "227845/227845 [==============================] - 1s 5us/step - loss: 1.0024 - val_loss: 1.0108\n",
      "Epoch 15/20\n",
      "227845/227845 [==============================] - 1s 5us/step - loss: 1.0021 - val_loss: 1.0105\n",
      "Epoch 16/20\n",
      "227845/227845 [==============================] - 1s 5us/step - loss: 1.0018 - val_loss: 1.0100\n",
      "Epoch 17/20\n",
      "227845/227845 [==============================] - 1s 5us/step - loss: 1.0012 - val_loss: 1.0094\n",
      "Epoch 18/20\n",
      "227845/227845 [==============================] - 1s 5us/step - loss: 1.0005 - val_loss: 1.0088\n",
      "Epoch 19/20\n",
      "227845/227845 [==============================] - 1s 5us/step - loss: 1.0000 - val_loss: 1.0083\n",
      "Epoch 20/20\n",
      "227845/227845 [==============================] - 1s 5us/step - loss: 0.9995 - val_loss: 1.0080\n"
     ]
    },
    {
     "data": {
      "text/plain": [
       "<keras.callbacks.History at 0x10c38f2b0>"
      ]
     },
     "execution_count": 4,
     "metadata": {},
     "output_type": "execute_result"
    }
   ],
   "source": [
    "autoencoder.compile(optimizer='adadelta', loss='mse')\n",
    "autoencoder.fit(x_train, x_train,\n",
    "                epochs=20,\n",
    "                batch_size=256,\n",
    "                shuffle=True,\n",
    "                validation_data=(x_test, x_test))"
   ]
  },
  {
   "cell_type": "code",
   "execution_count": 5,
   "metadata": {},
   "outputs": [
    {
     "data": {
      "text/plain": [
       "<Figure size 2000x400 with 20 Axes>"
      ]
     },
     "metadata": {},
     "output_type": "display_data"
    }
   ],
   "source": [
    "encoded_imgs = encoder.predict(x_test)\n",
    "decoded_imgs = decoder.predict(encoded_imgs)\n",
    "\n",
    "import matplotlib.pyplot as plt\n",
    "\n",
    "n = 10  # how many digits we will display\n",
    "plt.figure(figsize=(20, 4))\n",
    "for i in range(n):\n",
    "    # display original\n",
    "    ax = plt.subplot(2, n, i + 1)\n",
    "    plt.imshow(x_test[i].reshape(7, 4))\n",
    "    plt.gray()\n",
    "    ax.get_xaxis().set_visible(False)\n",
    "    ax.get_yaxis().set_visible(False)\n",
    "\n",
    "    # display reconstruction\n",
    "    ax = plt.subplot(2, n, i + 1 + n)\n",
    "    plt.imshow(decoded_imgs[i].reshape(7, 4))\n",
    "    plt.gray()\n",
    "    ax.get_xaxis().set_visible(False)\n",
    "    ax.get_yaxis().set_visible(False)\n",
    "plt.show()\n"
   ]
  },
  {
   "cell_type": "code",
   "execution_count": 6,
   "metadata": {},
   "outputs": [
    {
     "data": {
      "text/html": [
       "<div>\n",
       "<style scoped>\n",
       "    .dataframe tbody tr th:only-of-type {\n",
       "        vertical-align: middle;\n",
       "    }\n",
       "\n",
       "    .dataframe tbody tr th {\n",
       "        vertical-align: top;\n",
       "    }\n",
       "\n",
       "    .dataframe thead th {\n",
       "        text-align: right;\n",
       "    }\n",
       "</style>\n",
       "<table border=\"1\" class=\"dataframe\">\n",
       "  <thead>\n",
       "    <tr style=\"text-align: right;\">\n",
       "      <th></th>\n",
       "      <th>reconstruction_error</th>\n",
       "      <th>true_class</th>\n",
       "    </tr>\n",
       "  </thead>\n",
       "  <tbody>\n",
       "    <tr>\n",
       "      <th>count</th>\n",
       "      <td>56962.000000</td>\n",
       "      <td>56962.000000</td>\n",
       "    </tr>\n",
       "    <tr>\n",
       "      <th>mean</th>\n",
       "      <td>1.007985</td>\n",
       "      <td>0.001720</td>\n",
       "    </tr>\n",
       "    <tr>\n",
       "      <th>std</th>\n",
       "      <td>7.477313</td>\n",
       "      <td>0.041443</td>\n",
       "    </tr>\n",
       "    <tr>\n",
       "      <th>min</th>\n",
       "      <td>0.107642</td>\n",
       "      <td>0.000000</td>\n",
       "    </tr>\n",
       "    <tr>\n",
       "      <th>25%</th>\n",
       "      <td>0.348148</td>\n",
       "      <td>0.000000</td>\n",
       "    </tr>\n",
       "    <tr>\n",
       "      <th>50%</th>\n",
       "      <td>0.556925</td>\n",
       "      <td>0.000000</td>\n",
       "    </tr>\n",
       "    <tr>\n",
       "      <th>75%</th>\n",
       "      <td>0.870688</td>\n",
       "      <td>0.000000</td>\n",
       "    </tr>\n",
       "    <tr>\n",
       "      <th>max</th>\n",
       "      <td>1573.688477</td>\n",
       "      <td>1.000000</td>\n",
       "    </tr>\n",
       "  </tbody>\n",
       "</table>\n",
       "</div>"
      ],
      "text/plain": [
       "       reconstruction_error    true_class\n",
       "count          56962.000000  56962.000000\n",
       "mean               1.007985      0.001720\n",
       "std                7.477313      0.041443\n",
       "min                0.107642      0.000000\n",
       "25%                0.348148      0.000000\n",
       "50%                0.556925      0.000000\n",
       "75%                0.870688      0.000000\n",
       "max             1573.688477      1.000000"
      ]
     },
     "execution_count": 6,
     "metadata": {},
     "output_type": "execute_result"
    }
   ],
   "source": [
    "predictions = autoencoder.predict(x_test)\n",
    "mse = np.mean(np.power(x_test - predictions, 2), axis=1)\n",
    "error_df = pd.DataFrame({'reconstruction_error': mse,\n",
    "                        'true_class': y_test})\n",
    "error_df.describe()\n",
    "\n"
   ]
  },
  {
   "cell_type": "code",
   "execution_count": 7,
   "metadata": {},
   "outputs": [
    {
     "data": {
      "text/plain": [
       "Text(0.5, 1.0, 'Top ten reconstruction errors')"
      ]
     },
     "execution_count": 7,
     "metadata": {},
     "output_type": "execute_result"
    },
    {
     "data": {
      "image/png": "[encoded data removed]",
      "text/plain": [
       "<Figure size 432x288 with 1 Axes>"
      ]
     },
     "metadata": {
      "needs_background": "light"
     },
     "output_type": "display_data"
    }
   ],
   "source": [
    "sorted_mag = np.sort(-mse, axis=0)\n",
    "sorted_mag = sorted_mag.astype(int)\n",
    "\n",
    "sorted_mag = -sorted_mag[0:10]\n",
    "x = np.arange(1,11,1)\n",
    "plt.bar(x,sorted_mag,align='center')\n",
    "plt.xticks(x, x)\n",
    "plt.ylabel('Reconstruction Error')\n",
    "plt.xlabel('Index')\n",
    "plt.title('Top ten reconstruction errors')"
   ]
  },
  {
   "cell_type": "code",
   "execution_count": 8,
   "metadata": {},
   "outputs": [],
   "source": [
    "encoded_imgs = encoder.predict(x_data)\n",
    "i = np.where(y_data == 1)\n",
    "x_1 = encoded_imgs[i,0]\n",
    "y_1 = encoded_imgs[i,1]\n",
    "i = np.where(y_data == 0)\n",
    "x_0 = encoded_imgs[i,0]\n",
    "y_0 = encoded_imgs[i,1]\n"
   ]
  },
  {
   "cell_type": "code",
   "execution_count": 9,
   "metadata": {},
   "outputs": [
    {
     "data": {
      "image/png": "[encoded data removed]",
      "text/plain": [
       "<Figure size 432x288 with 2 Axes>"
      ]
     },
     "metadata": {
      "needs_background": "light"
     },
     "output_type": "display_data"
    }
   ],
   "source": [
    "ax1 = plt.subplot(121)\n",
    "plt.scatter(x_0, y_0,color='green', alpha=0.1)\n",
    "plt.title('Class 0')\n",
    "ax3 = plt.subplot(122, sharex=ax1, sharey=ax1)\n",
    "plt.scatter(x_1, y_1,color='red', alpha=0.1)\n",
    "plt.title('Class 1')\n",
    "plt.show()"
   ]
  },
  {
   "cell_type": "markdown",
   "metadata": {},
   "source": [
    "## Deep Autoencoder"
   ]
  },
  {
   "cell_type": "code",
   "execution_count": null,
   "metadata": {},
   "outputs": [],
   "source": [
    "from keras import backend as K\n",
    "K.clear_session()\n",
    "\n",
    "import numpy as np\n",
    "from sklearn.model_selection import train_test_split\n",
    "import pandas as pd \n",
    "from sklearn.preprocessing import normalize\n",
    "\n",
    "x_data = pd.read_csv(\"data1.csv\")\n",
    "x_data = x_data.dropna()\n",
    "x_data = x_data.astype('float32')\n",
    "y_data = x_data['Class']\n",
    "y_data = y_data.astype(int)\n",
    "x_data.drop(['Class'], inplace=True, axis=1)\n",
    "#x_data = normalize(x_data, axis=0)\n",
    "\n",
    "x_train, x_test, y_train, y_test = train_test_split(x_data, y_data, test_size=0.2, random_state=0, stratify=y_data)\n",
    "\n",
    "x_data = x_data.values\n",
    "x_train = x_train.values\n",
    "x_test = x_test.values"
   ]
  },
  {
   "cell_type": "code",
   "execution_count": null,
   "metadata": {},
   "outputs": [],
   "source": [
    "from keras.layers import Input, Dense\n",
    "from keras.models import Model\n",
    "\n",
    "encoding_dim = 2 \n",
    "input_img = Input(shape=(x_train.shape[1],))\n",
    "encoded = Dense(256, activation='relu')(input_img)\n",
    "encoded = Dense(128, activation='relu')(encoded)\n",
    "encoded = Dense(14, activation='relu')(encoded)\n",
    "encoded = Dense(encoding_dim, activation='relu')(encoded)\n",
    "\n",
    "\n",
    "decoded = Dense(14, activation='relu')(encoded)\n",
    "decoded = Dense(128, activation='relu')(decoded)\n",
    "decoded = Dense(256, activation='relu')(decoded)\n",
    "decoded = Dense(28, activation='sigmoid')(decoded)\n",
    "\n",
    "autoencoder = Model(input_img, decoded)\n",
    "\n",
    "encoder = Model(input_img, encoded)\n",
    "encoded_input = Input(shape=(encoding_dim,))\n",
    "decoder_layer1 = autoencoder.layers[-4]\n",
    "decoder_layer2 = autoencoder.layers[-3]\n",
    "decoder_layer3 = autoencoder.layers[-2]\n",
    "decoder_layer4 = autoencoder.layers[-1]\n",
    "\n",
    "decoder = Model(encoded_input,  ( decoder_layer4(decoder_layer3( decoder_layer2(decoder_layer1(encoded_input)) ))  ) )"
   ]
  },
  {
   "cell_type": "code",
   "execution_count": null,
   "metadata": {},
   "outputs": [],
   "source": [
    "autoencoder.compile(optimizer='adadelta', loss='mse')\n",
    "\n",
    "autoencoder.fit(x_train, x_train,\n",
    "                epochs=20,\n",
    "                batch_size=256,\n",
    "                shuffle=True,\n",
    "                validation_data=(x_test, x_test))"
   ]
  },
  {
   "cell_type": "code",
   "execution_count": null,
   "metadata": {},
   "outputs": [],
   "source": [
    "encoded_imgs = encoder.predict(x_test)\n",
    "decoded_imgs = decoder.predict(encoded_imgs)\n",
    "\n",
    "import matplotlib.pyplot as plt\n",
    "\n",
    "n = 10  # how many digits we will display\n",
    "plt.figure(figsize=(20, 4))\n",
    "for i in range(n):\n",
    "    # display original\n",
    "    ax = plt.subplot(2, n, i + 1)\n",
    "    plt.imshow(x_test[i].reshape(7, 4))\n",
    "    plt.gray()\n",
    "    ax.get_xaxis().set_visible(False)\n",
    "    ax.get_yaxis().set_visible(False)\n",
    "\n",
    "    # display reconstruction\n",
    "    ax = plt.subplot(2, n, i + 1 + n)\n",
    "    plt.imshow(decoded_imgs[i].reshape(7, 4))\n",
    "    plt.gray()\n",
    "    ax.get_xaxis().set_visible(False)\n",
    "    ax.get_yaxis().set_visible(False)\n",
    "plt.show()\n",
    "\n"
   ]
  },
  {
   "cell_type": "code",
   "execution_count": null,
   "metadata": {},
   "outputs": [],
   "source": [
    "predictions = autoencoder.predict(x_test)\n",
    "mse = np.mean(np.power(x_test - predictions, 2), axis=1)\n",
    "error_df = pd.DataFrame({'reconstruction_error': mse,\n",
    "                        'true_class': y_test})\n",
    "error_df.describe()"
   ]
  },
  {
   "cell_type": "code",
   "execution_count": null,
   "metadata": {},
   "outputs": [],
   "source": [
    "sorted_mag = -np.sort(-mse, axis=0)\n",
    "#sorted_mag = sorted_mag.astype(int)\n",
    "\n",
    "sorted_mag = sorted_mag[0:10]\n",
    "x = np.arange(1,11,1)\n",
    "plt.bar(x,sorted_mag,align='center')\n",
    "plt.xticks(x, x)\n",
    "plt.ylabel('Reconstruction Error')\n",
    "plt.xlabel('Index')\n",
    "plt.title('Top ten reconstruction errors')"
   ]
  },
  {
   "cell_type": "code",
   "execution_count": null,
   "metadata": {},
   "outputs": [],
   "source": [
    "encoded_imgs = encoder.predict(x_data)\n",
    "i = np.where(y_data == 1)\n",
    "x_1 = encoded_imgs[i,0]\n",
    "y_1 = encoded_imgs[i,1]\n",
    "i = np.where(y_data == 0)\n",
    "x_0 = encoded_imgs[i,0]\n",
    "y_0 = encoded_imgs[i,1]\n"
   ]
  },
  {
   "cell_type": "code",
   "execution_count": null,
   "metadata": {},
   "outputs": [],
   "source": [
    "ax1 = plt.subplot(121)\n",
    "plt.scatter(x_0, y_0,color='green', alpha=0.1)\n",
    "plt.title('Class 0')\n",
    "ax3 = plt.subplot(122, sharex=ax1, sharey=ax1)\n",
    "plt.scatter(x_1, y_1,color='red', alpha=0.1)\n",
    "plt.title('Class 1')\n",
    "plt.show()"
   ]
  },
  {
   "cell_type": "code",
   "execution_count": null,
   "metadata": {},
   "outputs": [],
   "source": []
  }
 ],
 "metadata": {
  "kernelspec": {
   "display_name": "Python 3",
   "language": "python",
   "name": "python3"
  },
  "language_info": {
   "codemirror_mode": {
    "name": "ipython",
    "version": 3
   },
   "file_extension": ".py",
   "mimetype": "text/x-python",
   "name": "python",
   "nbconvert_exporter": "python",
   "pygments_lexer": "ipython3",
   "version": "3.6.8"
  }
 },
 "nbformat": 4,
 "nbformat_minor": 2
}
