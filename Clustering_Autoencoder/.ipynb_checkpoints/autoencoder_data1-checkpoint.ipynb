{
 "cells": [
  {
   "cell_type": "code",
   "execution_count": 1,
   "metadata": {},
   "outputs": [],
   "source": [
    "import numpy as np\n",
    "from sklearn.model_selection import train_test_split\n",
    "import pandas as pd \n",
    "from sklearn.preprocessing import normalize\n",
    "\n",
    "x_data = pd.read_csv(\"data1.csv\")\n",
    "x_data = x_data.dropna()\n",
    "x_data = x_data.astype('float32')\n",
    "norm2 = normalize(x_data, axis=0)\n",
    "y_data = x_data['Class']\n",
    "y_data = y_data.astype(int)\n",
    "x_data.drop(['Class'], inplace=True, axis=1)\n",
    "\n",
    "\n",
    "x_train, x_test, y_train, y_test = train_test_split(x_data, y_data, test_size=0.2, random_state=0, stratify=y_data)\n",
    "\n",
    "x_data = x_data.values\n",
    "x_train = x_train.values\n",
    "x_test = x_test.values"
   ]
  },
  {
   "cell_type": "code",
   "execution_count": 2,
   "metadata": {},
   "outputs": [
    {
     "name": "stderr",
     "output_type": "stream",
     "text": [
      "Using TensorFlow backend.\n"
     ]
    }
   ],
   "source": [
    "from keras.layers import Input, Dense\n",
    "from keras.models import Model\n",
    "\n",
    "# this is the size of our encoded representations\n",
    "encoding_dim = 2 \n",
    "\n",
    "# this is our input placeholder\n",
    "input_img = Input(shape=(28,))\n",
    "# \"encoded\" is the encoded representation of the input\n",
    "encoded = Dense(encoding_dim, activation='relu')(input_img)\n",
    "# \"decoded\" is the lossy reconstruction of the input\n",
    "decoded = Dense(28, activation='sigmoid')(encoded)"
   ]
  },
  {
   "cell_type": "code",
   "execution_count": 3,
   "metadata": {},
   "outputs": [],
   "source": [
    "# this model maps an input to its reconstruction\n",
    "autoencoder = Model(input_img, decoded)\n",
    "# this model maps an input to its encoded representation\n",
    "encoder = Model(input_img, encoded)\n",
    "# create a placeholder for an encoded (32-dimensional) input\n",
    "encoded_input = Input(shape=(encoding_dim,))\n",
    "# retrieve the last layer of the autoencoder model\n",
    "decoder_layer = autoencoder.layers[-1]\n",
    "# create the decoder model\n",
    "decoder = Model(encoded_input, decoder_layer(encoded_input))\n"
   ]
  },
  {
   "cell_type": "code",
   "execution_count": 4,
   "metadata": {},
   "outputs": [
    {
     "name": "stdout",
     "output_type": "stream",
     "text": [
      "Train on 227845 samples, validate on 56962 samples\n",
      "Epoch 1/20\n",
      "227845/227845 [==============================] - 1s 6us/step - loss: 1.1180 - val_loss: 1.0632\n",
      "Epoch 2/20\n",
      "227845/227845 [==============================] - 1s 6us/step - loss: 1.0431 - val_loss: 1.0424\n",
      "Epoch 3/20\n",
      "227845/227845 [==============================] - 1s 6us/step - loss: 1.0261 - val_loss: 1.0297\n",
      "Epoch 4/20\n",
      "227845/227845 [==============================] - 1s 6us/step - loss: 1.0178 - val_loss: 1.0243\n",
      "Epoch 5/20\n",
      "227845/227845 [==============================] - 1s 5us/step - loss: 1.0137 - val_loss: 1.0213\n",
      "Epoch 6/20\n",
      "227845/227845 [==============================] - 1s 5us/step - loss: 1.0114 - val_loss: 1.0193\n",
      "Epoch 7/20\n",
      "227845/227845 [==============================] - 1s 5us/step - loss: 1.0096 - val_loss: 1.0176\n",
      "Epoch 8/20\n",
      "227845/227845 [==============================] - 1s 5us/step - loss: 1.0081 - val_loss: 1.0162\n",
      "Epoch 9/20\n",
      "227845/227845 [==============================] - 1s 6us/step - loss: 1.0068 - val_loss: 1.0149\n",
      "Epoch 10/20\n",
      "227845/227845 [==============================] - 1s 6us/step - loss: 1.0056 - val_loss: 1.0139\n",
      "Epoch 11/20\n",
      "227845/227845 [==============================] - 1s 6us/step - loss: 1.0045 - val_loss: 1.0125\n",
      "Epoch 12/20\n",
      "227845/227845 [==============================] - 1s 5us/step - loss: 1.0035 - val_loss: 1.0117\n",
      "Epoch 13/20\n",
      "227845/227845 [==============================] - 1s 6us/step - loss: 1.0028 - val_loss: 1.0111\n",
      "Epoch 14/20\n",
      "227845/227845 [==============================] - 1s 6us/step - loss: 1.0023 - val_loss: 1.0106\n",
      "Epoch 15/20\n",
      "227845/227845 [==============================] - 1s 6us/step - loss: 1.0018 - val_loss: 1.0103\n",
      "Epoch 16/20\n",
      "227845/227845 [==============================] - 1s 6us/step - loss: 1.0014 - val_loss: 1.0099\n",
      "Epoch 17/20\n",
      "227845/227845 [==============================] - 1s 6us/step - loss: 1.0010 - val_loss: 1.0096\n",
      "Epoch 18/20\n",
      "227845/227845 [==============================] - 1s 6us/step - loss: 1.0007 - val_loss: 1.0093\n",
      "Epoch 19/20\n",
      "227845/227845 [==============================] - 1s 5us/step - loss: 1.0004 - val_loss: 1.0090\n",
      "Epoch 20/20\n",
      "227845/227845 [==============================] - 1s 6us/step - loss: 1.0002 - val_loss: 1.0088\n"
     ]
    },
    {
     "data": {
      "text/plain": [
       "<keras.callbacks.History at 0x1a14e0fda0>"
      ]
     },
     "execution_count": 4,
     "metadata": {},
     "output_type": "execute_result"
    }
   ],
   "source": [
    "autoencoder.compile(optimizer='adadelta', loss='mse')\n",
    "autoencoder.fit(x_train, x_train,\n",
    "                epochs=20,\n",
    "                batch_size=256,\n",
    "                shuffle=True,\n",
    "                validation_data=(x_test, x_test))"
   ]
  },
  {
   "cell_type": "code",
   "execution_count": 6,
   "metadata": {},
   "outputs": [
    {
     "data": {
      "text/plain": [
       "<Figure size 2000x400 with 20 Axes>"
      ]
     },
     "metadata": {},
     "output_type": "display_data"
    }
   ],
   "source": [
    "encoded_imgs = encoder.predict(x_test)\n",
    "decoded_imgs = decoder.predict(encoded_imgs)\n",
    "\n",
    "import matplotlib.pyplot as plt\n",
    "\n",
    "n = 10  # how many digits we will display\n",
    "plt.figure(figsize=(20, 4))\n",
    "for i in range(n):\n",
    "    # display original\n",
    "    ax = plt.subplot(2, n, i + 1)\n",
    "    plt.imshow(x_test[i].reshape(7, 4))\n",
    "    plt.gray()\n",
    "    ax.get_xaxis().set_visible(False)\n",
    "    ax.get_yaxis().set_visible(False)\n",
    "\n",
    "    # display reconstruction\n",
    "    ax = plt.subplot(2, n, i + 1 + n)\n",
    "    plt.imshow(decoded_imgs[i].reshape(7, 4))\n",
    "    plt.gray()\n",
    "    ax.get_xaxis().set_visible(False)\n",
    "    ax.get_yaxis().set_visible(False)\n",
    "plt.show()\n"
   ]
  },
  {
   "cell_type": "code",
   "execution_count": 11,
   "metadata": {},
   "outputs": [
    {
     "data": {
      "text/plain": [
       "Text(0.5, 1.0, 'Top ten reconstruction errors')"
      ]
     },
     "execution_count": 11,
     "metadata": {},
     "output_type": "execute_result"
    },
    {
     "data": {
      "image/png": "[encoded data removed]",
      "text/plain": [
       "<Figure size 432x288 with 1 Axes>"
      ]
     },
     "metadata": {
      "needs_background": "light"
     },
     "output_type": "display_data"
    }
   ],
   "source": [
    "predictions = autoencoder.predict(x_test)\n",
    "mse = np.mean(np.power(x_test - predictions, 2), axis=1)\n",
    "\n",
    "sorted_mag = np.sort(-mse, axis=0)\n",
    "sorted_mag = sorted_mag.astype(int)\n",
    "\n",
    "sorted_mag = -sorted_mag[0:10]\n",
    "x = np.arange(1,11,1)\n",
    "plt.bar(x,sorted_mag,align='center')\n",
    "plt.xticks(x, x)\n",
    "plt.ylabel('Reconstruction Error')\n",
    "plt.xlabel('Index')\n",
    "plt.title('Top ten reconstruction errors')"
   ]
  },
  {
   "cell_type": "code",
   "execution_count": 9,
   "metadata": {},
   "outputs": [
    {
     "data": {
      "text/plain": [
       "array([[1, 1, 1, 0, 0, 1, 1, 0, 0, 0, 0, 0, 0, 0, 0, 0, 0, 0, 1, 0, 0, 0,\n",
       "        0, 0, 0, 0, 0, 0],\n",
       "       [1, 0, 1, 0, 0, 0, 1, 0, 0, 0, 0, 0, 0, 0, 0, 0, 0, 0, 1, 0, 0, 0,\n",
       "        0, 0, 0, 0, 0, 0],\n",
       "       [1, 0, 1, 0, 0, 0, 1, 0, 0, 0, 0, 0, 0, 0, 0, 0, 0, 0, 0, 0, 0, 0,\n",
       "        0, 0, 0, 0, 0, 0],\n",
       "       [1, 0, 1, 0, 0, 0, 1, 0, 0, 0, 0, 0, 0, 0, 0, 0, 0, 0, 0, 0, 0, 0,\n",
       "        0, 0, 0, 0, 0, 0],\n",
       "       [1, 0, 1, 0, 0, 0, 1, 0, 0, 0, 0, 0, 0, 0, 0, 0, 0, 0, 0, 0, 0, 0,\n",
       "        0, 0, 0, 0, 0, 0],\n",
       "       [1, 0, 1, 0, 0, 0, 0, 0, 0, 0, 0, 0, 0, 0, 0, 0, 0, 0, 0, 0, 0, 0,\n",
       "        0, 0, 0, 0, 0, 0],\n",
       "       [0, 0, 1, 0, 0, 0, 0, 0, 0, 0, 0, 0, 0, 0, 0, 0, 0, 0, 0, 0, 0, 0,\n",
       "        0, 0, 0, 0, 0, 0],\n",
       "       [0, 0, 1, 0, 0, 0, 0, 0, 0, 0, 0, 0, 0, 0, 0, 0, 0, 0, 0, 0, 0, 0,\n",
       "        0, 0, 0, 0, 0, 0],\n",
       "       [0, 0, 1, 0, 0, 0, 0, 0, 0, 0, 0, 0, 0, 0, 0, 0, 0, 0, 0, 0, 0, 0,\n",
       "        0, 0, 0, 0, 0, 0],\n",
       "       [0, 0, 1, 0, 0, 0, 0, 0, 0, 0, 0, 0, 0, 0, 0, 0, 0, 0, 0, 0, 0, 0,\n",
       "        0, 0, 0, 0, 0, 0]])"
      ]
     },
     "execution_count": 9,
     "metadata": {},
     "output_type": "execute_result"
    }
   ],
   "source": [
    "predictions"
   ]
  },
  {
   "cell_type": "code",
   "execution_count": null,
   "metadata": {},
   "outputs": [],
   "source": [
    "encoded_imgs = encoder.predict(x_data)\n",
    "i = np.where(y_data == 1)\n",
    "x_1 = encoded_imgs[i,0]\n",
    "y_1 = encoded_imgs[i,1]\n",
    "i = np.where(y_data == 0)\n",
    "x_0 = encoded_imgs[i,0]\n",
    "y_0 = encoded_imgs[i,1]\n"
   ]
  },
  {
   "cell_type": "code",
   "execution_count": null,
   "metadata": {},
   "outputs": [],
   "source": [
    "plt.scatter(x_1, y_1,color='red', alpha=1)\n",
    "plt.scatter(x_0, y_0,color='blue', alpha=0.09)\n",
    "plt.xlabel('x')\n",
    "plt.ylabel('y')\n",
    "plt.legend(['Class 1','Class 0'])\n",
    "plt.show()"
   ]
  },
  {
   "cell_type": "code",
   "execution_count": null,
   "metadata": {},
   "outputs": [],
   "source": [
    "np.count_nonzero(y_test == 0)"
   ]
  },
  {
   "cell_type": "markdown",
   "metadata": {},
   "source": [
    "## Deep Autoencoder"
   ]
  },
  {
   "cell_type": "code",
   "execution_count": null,
   "metadata": {},
   "outputs": [],
   "source": [
    "import numpy as np\n",
    "from sklearn.model_selection import train_test_split\n",
    "import pandas as pd \n",
    "from sklearn.preprocessing import normalize\n",
    "\n",
    "x_data = pd.read_csv(\"data1.csv\")\n",
    "x_data = x_data.dropna()\n",
    "x_data = x_data.astype('float32')\n",
    "norm2 = normalize(x_data, axis=0)\n",
    "y_data = x_data['Class']\n",
    "y_data = y_data.astype(int)\n",
    "x_data.drop(['Class'], inplace=True, axis=1)\n",
    "\n",
    "\n",
    "x_train, x_test, y_train, y_test = train_test_split(x_data, y_data, test_size=0.2, random_state=0, stratify=y_data)\n",
    "\n",
    "x_data = x_data.values\n",
    "x_train = x_train.values\n",
    "x_test = x_test.values"
   ]
  },
  {
   "cell_type": "code",
   "execution_count": null,
   "metadata": {},
   "outputs": [],
   "source": [
    "from keras.layers import Input, Dense\n",
    "from keras.models import Model\n",
    "\n",
    "encoding_dim = 2 \n",
    "input_img = Input(shape=(x_train.shape[1],))\n",
    "encoded = Dense(56, activation='relu')(input_img)\n",
    "encoded = Dense(28, activation='relu')(encoded)\n",
    "encoded = Dense(14, activation='relu')(encoded)\n",
    "encoded = Dense(encoding_dim, activation='relu')(encoded)\n",
    "\n",
    "\n",
    "decoded = Dense(14, activation='relu')(encoded)\n",
    "decoded = Dense(28, activation='relu')(decoded)\n",
    "decoded = Dense(56, activation='relu')(decoded)\n",
    "decoded = Dense(28, activation='sigmoid')(decoded)\n",
    "\n",
    "autoencoder = Model(input_img, decoded)\n",
    "\n",
    "encoder = Model(input_img, encoded)\n",
    "encoded_input = Input(shape=(encoding_dim,))\n",
    "decoder_layer1 = autoencoder.layers[-4]\n",
    "decoder_layer2 = autoencoder.layers[-3]\n",
    "decoder_layer3 = autoencoder.layers[-2]\n",
    "decoder_layer4 = autoencoder.layers[-1]\n",
    "\n",
    "decoder = Model(encoded_input,  ( decoder_layer4(decoder_layer3( decoder_layer2(decoder_layer1(encoded_input)) ))  ) )"
   ]
  },
  {
   "cell_type": "code",
   "execution_count": null,
   "metadata": {},
   "outputs": [],
   "source": [
    "autoencoder.compile(optimizer='adadelta', loss='mse')\n",
    "\n",
    "autoencoder.fit(x_train, x_train,\n",
    "                epochs=20,\n",
    "                batch_size=200,\n",
    "                shuffle=True,\n",
    "                validation_data=(x_test, x_test))"
   ]
  },
  {
   "cell_type": "code",
   "execution_count": null,
   "metadata": {},
   "outputs": [],
   "source": [
    "encoded_imgs = encoder.predict(x_test)\n",
    "decoded_imgs = decoder.predict(encoded_imgs)\n",
    "\n",
    "import matplotlib.pyplot as plt\n",
    "\n",
    "n = 10  # how many digits we will display\n",
    "plt.figure(figsize=(20, 4))\n",
    "for i in range(n):\n",
    "    # display original\n",
    "    ax = plt.subplot(2, n, i + 1)\n",
    "    plt.imshow(x_test[i].reshape(7, 4))\n",
    "    plt.gray()\n",
    "    ax.get_xaxis().set_visible(False)\n",
    "    ax.get_yaxis().set_visible(False)\n",
    "\n",
    "    # display reconstruction\n",
    "    ax = plt.subplot(2, n, i + 1 + n)\n",
    "    plt.imshow(decoded_imgs[i].reshape(7, 4))\n",
    "    plt.gray()\n",
    "    ax.get_xaxis().set_visible(False)\n",
    "    ax.get_yaxis().set_visible(False)\n",
    "plt.show()\n",
    "\n"
   ]
  },
  {
   "cell_type": "code",
   "execution_count": null,
   "metadata": {},
   "outputs": [],
   "source": [
    "predictions = autoencoder.predict(x_test)\n",
    "mse = np.mean(np.power(x_test - predictions, 2), axis=1)\n",
    "\n",
    "sorted_mag = np.sort(-mse, axis=0)\n",
    "sorted_mag = sorted_mag.astype(int)\n",
    "\n",
    "sorted_mag = -sorted_mag[0:10]\n",
    "x = np.arange(1,11,1)\n",
    "plt.bar(x,sorted_mag,align='center')\n",
    "plt.xticks(x, x)\n",
    "plt.ylabel('Reconstruction Error')\n",
    "plt.xlabel('Index')\n",
    "plt.title('Top ten reconstruction errors')"
   ]
  },
  {
   "cell_type": "code",
   "execution_count": null,
   "metadata": {},
   "outputs": [],
   "source": [
    "encoded_imgs = encoder.predict(x_data)\n",
    "i = np.where(y_data == 1)\n",
    "x_1 = encoded_imgs[i,0]\n",
    "y_1 = encoded_imgs[i,1]\n",
    "i = np.where(y_data == 0)\n",
    "x_0 = encoded_imgs[i,0]\n",
    "y_0 = encoded_imgs[i,1]\n"
   ]
  },
  {
   "cell_type": "code",
   "execution_count": null,
   "metadata": {},
   "outputs": [],
   "source": [
    "plt.scatter(x_1, y_1,color='red', alpha=1)\n",
    "plt.scatter(x_0, y_0,color='blue', alpha=0.09)\n",
    "plt.xlabel('x')\n",
    "plt.ylabel('y')\n",
    "plt.legend(['Class 1','Class 0'])\n",
    "plt.show()"
   ]
  },
  {
   "cell_type": "code",
   "execution_count": null,
   "metadata": {},
   "outputs": [],
   "source": []
  }
 ],
 "metadata": {
  "kernelspec": {
   "display_name": "Python 3",
   "language": "python",
   "name": "python3"
  },
  "language_info": {
   "codemirror_mode": {
    "name": "ipython",
    "version": 3
   },
   "file_extension": ".py",
   "mimetype": "text/x-python",
   "name": "python",
   "nbconvert_exporter": "python",
   "pygments_lexer": "ipython3",
   "version": "3.6.8"
  }
 },
 "nbformat": 4,
 "nbformat_minor": 2
}
