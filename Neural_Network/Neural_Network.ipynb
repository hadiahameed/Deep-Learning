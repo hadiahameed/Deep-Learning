{
 "cells": [
  {
   "cell_type": "code",
   "execution_count": 2,
   "metadata": {},
   "outputs": [
    {
     "data": {
      "image/png": "[encoded data removed]",
      "text/plain": [
       "<Figure size 432x288 with 4 Axes>"
      ]
     },
     "metadata": {
      "needs_background": "light"
     },
     "output_type": "display_data"
    }
   ],
   "source": [
    "# Plot ad hoc mnist instances\n",
    "from keras.datasets import fashion_mnist\n",
    "#from keras.datasets import cifar10\n",
    "import matplotlib.pyplot as plt\n",
    "# load (downloaded if needed) the FASHION_MNIST dataset\n",
    "#(X_train, y_train), (X_test, y_test) = cifar10.load_data()\n",
    "(X_train, y_train), (X_test, y_test) = fashion_mnist.load_data()\n",
    "# plot 4 images as gray scale\n",
    "plt.subplot(221)\n",
    "plt.imshow(X_train[0],cmap=plt.get_cmap('gray'))\n",
    "plt.subplot(222)\n",
    "plt.imshow(X_train[1],cmap=plt.get_cmap('gray'))\n",
    "plt.subplot(223)\n",
    "plt.imshow(X_train[2],cmap=plt.get_cmap('gray'))\n",
    "plt.subplot(224)\n",
    "plt.imshow(X_train[3],cmap=plt.get_cmap('gray'))\n",
    "# show the plot\n",
    "plt.show()"
   ]
  },
  {
   "cell_type": "code",
   "execution_count": 4,
   "metadata": {},
   "outputs": [
    {
     "data": {
      "text/plain": [
       "numpy.ndarray"
      ]
     },
     "execution_count": 4,
     "metadata": {},
     "output_type": "execute_result"
    }
   ],
   "source": [
    "type(X_train)"
   ]
  },
  {
   "cell_type": "code",
   "execution_count": 3,
   "metadata": {},
   "outputs": [
    {
     "name": "stdout",
     "output_type": "stream",
     "text": [
      "Number of images:  60000\n",
      "Number of pixels in each image:  784\n"
     ]
    }
   ],
   "source": [
    "from keras.models import Sequential\n",
    "from keras.layers import Dense\n",
    "from keras.layers import Dropout\n",
    "from keras.utils import np_utils\n",
    "from keras import regularizers\n",
    "import numpy as np\n",
    "\n",
    "# fix random seed for reproducibility\n",
    "seed = 7\n",
    "np.random.seed(seed)\n",
    "# flatten 28*28 images to a 784 vector for each image\n",
    "num_pixels = X_train.shape[1] * X_train.shape[2]\n",
    "print(\"Number of images: \", str(X_train.shape[0]))\n",
    "print(\"Number of pixels in each image: \", str(num_pixels))\n"
   ]
  },
  {
   "cell_type": "code",
   "execution_count": 4,
   "metadata": {},
   "outputs": [],
   "source": [
    "X_train = X_train.reshape(X_train.shape[0], num_pixels).astype('float32')\n",
    "X_test = X_test.reshape(X_test.shape[0], num_pixels).astype('float32')"
   ]
  },
  {
   "cell_type": "code",
   "execution_count": 5,
   "metadata": {},
   "outputs": [
    {
     "data": {
      "text/plain": [
       "array([  0.,   0., 155., 236., 207., 178., 107., 156., 161., 109.,  64.,\n",
       "        23.,  77., 130.,  72.,  15.,   0.,   0.,   0.,   0.],\n",
       "      dtype=float32)"
      ]
     },
     "execution_count": 5,
     "metadata": {},
     "output_type": "execute_result"
    }
   ],
   "source": [
    "X_train[0,180:200]"
   ]
  },
  {
   "cell_type": "code",
   "execution_count": 6,
   "metadata": {},
   "outputs": [],
   "source": [
    "# normalize inputs from 0-255 to 0-1\n",
    "X_train = X_train / 255\n",
    "X_test = X_test / 255"
   ]
  },
  {
   "cell_type": "code",
   "execution_count": 7,
   "metadata": {},
   "outputs": [
    {
     "data": {
      "text/plain": [
       "array([0.        , 0.        , 0.60784316, 0.9254902 , 0.8117647 ,\n",
       "       0.69803923, 0.41960785, 0.6117647 , 0.6313726 , 0.42745098,\n",
       "       0.2509804 , 0.09019608, 0.3019608 , 0.50980395, 0.28235295,\n",
       "       0.05882353, 0.        , 0.        , 0.        , 0.        ],\n",
       "      dtype=float32)"
      ]
     },
     "execution_count": 7,
     "metadata": {},
     "output_type": "execute_result"
    }
   ],
   "source": [
    "X_train[0,180:200]"
   ]
  },
  {
   "cell_type": "code",
   "execution_count": 8,
   "metadata": {},
   "outputs": [
    {
     "data": {
      "text/plain": [
       "array([0, 1, 2, 3, 4, 5, 6, 7, 8, 9], dtype=uint8)"
      ]
     },
     "execution_count": 8,
     "metadata": {},
     "output_type": "execute_result"
    }
   ],
   "source": [
    "np.unique(y_train)"
   ]
  },
  {
   "cell_type": "code",
   "execution_count": 9,
   "metadata": {},
   "outputs": [],
   "source": [
    "# one hot encode outputs\n",
    "y_train = np_utils.to_categorical(y_train)\n",
    "y_test = np_utils.to_categorical(y_test)\n",
    "num_classes = y_test.shape[1]"
   ]
  },
  {
   "cell_type": "code",
   "execution_count": 10,
   "metadata": {},
   "outputs": [
    {
     "data": {
      "text/plain": [
       "array([[0., 0., 0., ..., 0., 0., 1.],\n",
       "       [1., 0., 0., ..., 0., 0., 0.],\n",
       "       [1., 0., 0., ..., 0., 0., 0.],\n",
       "       ...,\n",
       "       [0., 0., 0., ..., 0., 0., 0.],\n",
       "       [1., 0., 0., ..., 0., 0., 0.],\n",
       "       [0., 0., 0., ..., 0., 0., 0.]], dtype=float32)"
      ]
     },
     "execution_count": 10,
     "metadata": {},
     "output_type": "execute_result"
    }
   ],
   "source": [
    "y_train"
   ]
  },
  {
   "cell_type": "code",
   "execution_count": 11,
   "metadata": {},
   "outputs": [],
   "source": [
    "# define baseline model\n",
    "def baseline_model():\n",
    " # create model\n",
    " model = Sequential()\n",
    " model.add(Dense(100, kernel_initializer='normal', activation='relu',input_shape=(num_pixels,)))\n",
    "#network.add(layes.Dropout(0.5))\n",
    " model.add(Dense(60, kernel_initializer='normal', activation='softmax'))\n",
    " model.add(Dense(32, kernel_initializer='normal', activation='softmax'))\n",
    " model.add(Dense(num_classes, kernel_initializer='normal', activation='softmax'))\n",
    " # Compile model\n",
    " model.compile(loss='categorical_crossentropy', optimizer='adam', metrics=['accuracy'])\n",
    " return model"
   ]
  },
  {
   "cell_type": "code",
   "execution_count": 12,
   "metadata": {},
   "outputs": [],
   "source": [
    "# build the model\n",
    "from keras import backend as K\n",
    "K.clear_session()\n",
    "model = baseline_model()"
   ]
  },
  {
   "cell_type": "code",
   "execution_count": 13,
   "metadata": {},
   "outputs": [],
   "source": [
    "#from keras.utils.vis_utils import plot_model\n",
    "#plot_model(model, to_file='model_plot.png', show_shapes=True, show_layer_names=True)"
   ]
  },
  {
   "cell_type": "code",
   "execution_count": 14,
   "metadata": {},
   "outputs": [
    {
     "name": "stdout",
     "output_type": "stream",
     "text": [
      "Train on 60000 samples, validate on 10000 samples\n",
      "Epoch 1/40\n",
      " - 2s - loss: 2.2598 - acc: 0.3033 - val_loss: 2.1381 - val_acc: 0.3891\n",
      "Epoch 2/40\n",
      " - 2s - loss: 1.8922 - acc: 0.4191 - val_loss: 1.6594 - val_acc: 0.3842\n",
      "Epoch 3/40\n",
      " - 2s - loss: 1.5171 - acc: 0.3863 - val_loss: 1.4157 - val_acc: 0.3894\n",
      "Epoch 4/40\n",
      " - 2s - loss: 1.3420 - acc: 0.3892 - val_loss: 1.2953 - val_acc: 0.3866\n",
      "Epoch 5/40\n",
      " - 2s - loss: 1.2573 - acc: 0.3904 - val_loss: 1.2375 - val_acc: 0.3966\n",
      "Epoch 6/40\n",
      " - 2s - loss: 1.2112 - acc: 0.3986 - val_loss: 1.2045 - val_acc: 0.3976\n",
      "Epoch 7/40\n",
      " - 2s - loss: 1.1791 - acc: 0.4110 - val_loss: 1.1758 - val_acc: 0.4173\n",
      "Epoch 8/40\n",
      " - 2s - loss: 1.1424 - acc: 0.4471 - val_loss: 1.1369 - val_acc: 0.4742\n",
      "Epoch 9/40\n",
      " - 2s - loss: 1.1072 - acc: 0.4926 - val_loss: 1.1059 - val_acc: 0.5267\n",
      "Epoch 10/40\n",
      " - 2s - loss: 1.0619 - acc: 0.5552 - val_loss: 1.0490 - val_acc: 0.5738\n",
      "Epoch 11/40\n",
      " - 2s - loss: 0.9943 - acc: 0.5838 - val_loss: 0.9895 - val_acc: 0.5810\n",
      "Epoch 12/40\n",
      " - 2s - loss: 0.9371 - acc: 0.6046 - val_loss: 0.9420 - val_acc: 0.6041\n",
      "Epoch 13/40\n",
      " - 2s - loss: 0.8954 - acc: 0.6221 - val_loss: 0.9123 - val_acc: 0.6103\n",
      "Epoch 14/40\n",
      " - 2s - loss: 0.8651 - acc: 0.6296 - val_loss: 0.8901 - val_acc: 0.6182\n",
      "Epoch 15/40\n",
      " - 2s - loss: 0.8397 - acc: 0.6378 - val_loss: 0.8710 - val_acc: 0.6187\n",
      "Epoch 16/40\n",
      " - 2s - loss: 0.8221 - acc: 0.6397 - val_loss: 0.8543 - val_acc: 0.6220\n",
      "Epoch 17/40\n",
      " - 2s - loss: 0.8040 - acc: 0.6554 - val_loss: 0.8459 - val_acc: 0.6585\n",
      "Epoch 18/40\n",
      " - 2s - loss: 0.7782 - acc: 0.7070 - val_loss: 0.7890 - val_acc: 0.7182\n",
      "Epoch 19/40\n",
      " - 2s - loss: 0.7061 - acc: 0.7519 - val_loss: 0.7271 - val_acc: 0.7392\n",
      "Epoch 20/40\n",
      " - 2s - loss: 0.6342 - acc: 0.7700 - val_loss: 0.6601 - val_acc: 0.7514\n",
      "Epoch 21/40\n",
      " - 2s - loss: 0.5843 - acc: 0.7811 - val_loss: 0.6296 - val_acc: 0.7914\n",
      "Epoch 22/40\n",
      " - 2s - loss: 0.5567 - acc: 0.7925 - val_loss: 0.6221 - val_acc: 0.7665\n",
      "Epoch 23/40\n",
      " - 2s - loss: 0.5391 - acc: 0.7974 - val_loss: 0.6085 - val_acc: 0.7723\n",
      "Epoch 24/40\n",
      " - 2s - loss: 0.5216 - acc: 0.8015 - val_loss: 0.5957 - val_acc: 0.7793\n",
      "Epoch 25/40\n",
      " - 2s - loss: 0.5078 - acc: 0.8123 - val_loss: 0.5896 - val_acc: 0.7845\n",
      "Epoch 26/40\n",
      " - 2s - loss: 0.4921 - acc: 0.8384 - val_loss: 0.5945 - val_acc: 0.7874\n",
      "Epoch 27/40\n",
      " - 2s - loss: 0.4677 - acc: 0.8684 - val_loss: 0.5477 - val_acc: 0.8397\n",
      "Epoch 28/40\n",
      " - 2s - loss: 0.4388 - acc: 0.8831 - val_loss: 0.5388 - val_acc: 0.8445\n",
      "Epoch 29/40\n",
      " - 2s - loss: 0.4132 - acc: 0.8905 - val_loss: 0.5157 - val_acc: 0.8572\n",
      "Epoch 30/40\n",
      " - 2s - loss: 0.3912 - acc: 0.8954 - val_loss: 0.5048 - val_acc: 0.8593\n",
      "Epoch 31/40\n",
      " - 2s - loss: 0.3808 - acc: 0.8962 - val_loss: 0.4810 - val_acc: 0.8678\n",
      "Epoch 32/40\n",
      " - 2s - loss: 0.3664 - acc: 0.9002 - val_loss: 0.4809 - val_acc: 0.8626\n",
      "Epoch 33/40\n",
      " - 2s - loss: 0.3545 - acc: 0.9015 - val_loss: 0.4724 - val_acc: 0.8652\n",
      "Epoch 34/40\n",
      " - 2s - loss: 0.3405 - acc: 0.9033 - val_loss: 0.4861 - val_acc: 0.8626\n",
      "Epoch 35/40\n",
      " - 2s - loss: 0.3230 - acc: 0.9054 - val_loss: 0.4519 - val_acc: 0.8680\n",
      "Epoch 36/40\n",
      " - 2s - loss: 0.3119 - acc: 0.9078 - val_loss: 0.4553 - val_acc: 0.8677\n",
      "Epoch 37/40\n",
      " - 2s - loss: 0.3077 - acc: 0.9090 - val_loss: 0.4533 - val_acc: 0.8634\n",
      "Epoch 38/40\n",
      " - 2s - loss: 0.2967 - acc: 0.9112 - val_loss: 0.4372 - val_acc: 0.8684\n",
      "Epoch 39/40\n",
      " - 2s - loss: 0.2922 - acc: 0.9119 - val_loss: 0.4484 - val_acc: 0.8705\n",
      "Epoch 40/40\n",
      " - 2s - loss: 0.2918 - acc: 0.9122 - val_loss: 0.4411 - val_acc: 0.8736\n",
      "[0.4411061597824097, 0.8736]\n",
      "Baseline Error: 12.64%\n"
     ]
    }
   ],
   "source": [
    "# Fit the model\n",
    "max_epochs = 40\n",
    "batch_size=150\n",
    "history = model.fit(X_train, y_train, validation_data=(X_test, y_test), epochs=max_epochs, batch_size=batch_size, verbose=2)\n",
    "# Final evaluation of the model\n",
    "scores = model.evaluate(X_test, y_test, verbose=0)\n",
    "print(scores)\n",
    "print(\"Baseline Error: %.2f%%\" % (100-scores[1]*100))"
   ]
  },
  {
   "cell_type": "code",
   "execution_count": 15,
   "metadata": {},
   "outputs": [
    {
     "data": {
      "text/plain": [
       "<matplotlib.legend.Legend at 0xb42c94518>"
      ]
     },
     "execution_count": 15,
     "metadata": {},
     "output_type": "execute_result"
    },
    {
     "data": {
      "image/png": "[encoded data removed]",
      "text/plain": [
       "<Figure size 432x288 with 2 Axes>"
      ]
     },
     "metadata": {
      "needs_background": "light"
     },
     "output_type": "display_data"
    }
   ],
   "source": [
    "x = np.arange(0, max_epochs, 1)\n",
    "val_acc = history.history['val_acc']\n",
    "train_acc = history.history['acc']\n",
    "plt.figure(1)\n",
    "plt.subplot(121)\n",
    "plt.plot(x,val_acc,'r')\n",
    "plt.plot(x,train_acc,'ro')\n",
    "plt.xlabel('Number of epochs')\n",
    "plt.ylabel('Accuracy')\n",
    "plt.title('Accuracy versus epochs')\n",
    "plt.legend(['Validation Accuracy','Training Accuracy'])\n",
    "plt.grid(True)\n",
    "\n",
    "plt.subplot(122)\n",
    "val_loss = history.history['val_loss']\n",
    "train_loss = history.history['loss']\n",
    "plt.plot(x, val_loss, 'b') # plotting t, a separately \n",
    "plt.plot(x, train_loss, 'bo') \n",
    "plt.grid(True)\n",
    "plt.legend(['Validation Loss','Training Loss'])"
   ]
  },
  {
   "cell_type": "code",
   "execution_count": null,
   "metadata": {},
   "outputs": [],
   "source": [
    "import tensorflow as tf\n",
    "from keras.layers import Input, Dense\n",
    "from keras.models import Model\n",
    "\n",
    "import matplotlib.pyplot as plt\n",
    "\n",
    "\n",
    "x = tf.Variable(3, name=\"x\") \n",
    "y = tf.Variable(4, name=\"y\") \n",
    "f=x*x*y+y+2\n",
    "\n",
    "\n",
    "sess = tf.Session()\n",
    "sess.run(x.initializer)\n",
    "sess.run(y.initializer)\n",
    "result = sess.run(f)\n",
    "print(result)\n",
    "sess.close()"
   ]
  },
  {
   "cell_type": "code",
   "execution_count": null,
   "metadata": {},
   "outputs": [],
   "source": [
    "#Linear Regression with TensorFlow\n",
    "from sklearn.datasets import fetch_california_housing\n",
    "housing = fetch_california_housing()\n",
    "m, n = housing.data.shape\n",
    "housing_data_plus_bias = np.c_[np.ones((m, 1)), housing.data]\n",
    "X = tf.constant(housing_data_plus_bias, dtype=tf.float32, name=\"X\")\n",
    "y = tf.constant(housing.target.reshape(-1, 1), dtype=tf.float32, name=\"y\")\n",
    "XT = tf.transpose(X)\n",
    "theta = tf.matmul(tf.matmul(tf.matrix_inverse(tf.matmul(XT, X)), XT), y)\n",
    "with tf.Session() as sess:\n",
    " theta_value = theta.eval()"
   ]
  },
  {
   "cell_type": "code",
   "execution_count": null,
   "metadata": {},
   "outputs": [],
   "source": []
  }
 ],
 "metadata": {
  "kernelspec": {
   "display_name": "Python 3",
   "language": "python",
   "name": "python3"
  },
  "language_info": {
   "codemirror_mode": {
    "name": "ipython",
    "version": 3
   },
   "file_extension": ".py",
   "mimetype": "text/x-python",
   "name": "python",
   "nbconvert_exporter": "python",
   "pygments_lexer": "ipython3",
   "version": "3.6.8"
  }
 },
 "nbformat": 4,
 "nbformat_minor": 2
}
