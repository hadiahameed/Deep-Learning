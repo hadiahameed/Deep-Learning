{
 "cells": [
  {
   "cell_type": "code",
   "execution_count": 1,
   "metadata": {},
   "outputs": [
    {
     "name": "stderr",
     "output_type": "stream",
     "text": [
      "Using TensorFlow backend.\n"
     ]
    },
    {
     "data": {
      "text/plain": [
       "<Figure size 640x480 with 4 Axes>"
      ]
     },
     "metadata": {},
     "output_type": "display_data"
    }
   ],
   "source": [
    "# Plot ad hoc mnist instances\n",
    "from keras.datasets import fashion_mnist\n",
    "#from keras.datasets import cifar10\n",
    "import matplotlib.pyplot as plt\n",
    "# load (downloaded if needed) the FASHION_MNIST dataset\n",
    "#(X_train, y_train), (X_test, y_test) = cifar10.load_data()\n",
    "(X_train, y_train), (X_test, y_test) = fashion_mnist.load_data()\n",
    "# plot 4 images as gray scale\n",
    "plt.subplot(221)\n",
    "plt.imshow(X_train[0],cmap=plt.get_cmap('gray'))\n",
    "plt.subplot(222)\n",
    "plt.imshow(X_train[1],cmap=plt.get_cmap('gray'))\n",
    "plt.subplot(223)\n",
    "plt.imshow(X_train[2],cmap=plt.get_cmap('gray'))\n",
    "plt.subplot(224)\n",
    "plt.imshow(X_train[3],cmap=plt.get_cmap('gray'))\n",
    "# show the plot\n",
    "plt.show()"
   ]
  },
  {
   "cell_type": "code",
   "execution_count": 2,
   "metadata": {},
   "outputs": [
    {
     "data": {
      "text/plain": [
       "(60000, 28, 28)"
      ]
     },
     "execution_count": 2,
     "metadata": {},
     "output_type": "execute_result"
    }
   ],
   "source": [
    "X_train.shape"
   ]
  },
  {
   "cell_type": "code",
   "execution_count": 3,
   "metadata": {},
   "outputs": [
    {
     "name": "stdout",
     "output_type": "stream",
     "text": [
      "Number of images:  60000\n",
      "Number of pixels in each image:  784\n"
     ]
    }
   ],
   "source": [
    "from keras.models import Sequential\n",
    "from keras.layers import Dense\n",
    "from keras.layers import Dropout\n",
    "from keras.utils import np_utils\n",
    "from keras import regularizers\n",
    "import numpy as np\n",
    "\n",
    "# fix random seed for reproducibility\n",
    "seed = 7\n",
    "np.random.seed(seed)\n",
    "# flatten 28*28 images to a 784 vector for each image\n",
    "num_pixels = X_train.shape[1] * X_train.shape[2]\n",
    "print(\"Number of images: \", str(X_train.shape[0]))\n",
    "print(\"Number of pixels in each image: \", str(num_pixels))\n"
   ]
  },
  {
   "cell_type": "code",
   "execution_count": 4,
   "metadata": {},
   "outputs": [],
   "source": [
    "X_train = X_train.reshape(X_train.shape[0], num_pixels).astype('float32')\n",
    "X_test = X_test.reshape(X_test.shape[0], num_pixels).astype('float32')"
   ]
  },
  {
   "cell_type": "code",
   "execution_count": 5,
   "metadata": {},
   "outputs": [
    {
     "data": {
      "text/plain": [
       "array([  0.,   0., 155., 236., 207., 178., 107., 156., 161., 109.,  64.,\n",
       "        23.,  77., 130.,  72.,  15.,   0.,   0.,   0.,   0.],\n",
       "      dtype=float32)"
      ]
     },
     "execution_count": 5,
     "metadata": {},
     "output_type": "execute_result"
    }
   ],
   "source": [
    "X_train[0,180:200]"
   ]
  },
  {
   "cell_type": "code",
   "execution_count": 6,
   "metadata": {},
   "outputs": [],
   "source": [
    "# normalize inputs from 0-255 to 0-1\n",
    "X_train = X_train / 255\n",
    "X_test = X_test / 255"
   ]
  },
  {
   "cell_type": "code",
   "execution_count": 7,
   "metadata": {},
   "outputs": [
    {
     "data": {
      "text/plain": [
       "array([0.        , 0.        , 0.60784316, 0.9254902 , 0.8117647 ,\n",
       "       0.69803923, 0.41960785, 0.6117647 , 0.6313726 , 0.42745098,\n",
       "       0.2509804 , 0.09019608, 0.3019608 , 0.50980395, 0.28235295,\n",
       "       0.05882353, 0.        , 0.        , 0.        , 0.        ],\n",
       "      dtype=float32)"
      ]
     },
     "execution_count": 7,
     "metadata": {},
     "output_type": "execute_result"
    }
   ],
   "source": [
    "X_train[0,180:200]"
   ]
  },
  {
   "cell_type": "code",
   "execution_count": 8,
   "metadata": {},
   "outputs": [
    {
     "data": {
      "text/plain": [
       "array([0, 1, 2, 3, 4, 5, 6, 7, 8, 9], dtype=uint8)"
      ]
     },
     "execution_count": 8,
     "metadata": {},
     "output_type": "execute_result"
    }
   ],
   "source": [
    "np.unique(y_train)"
   ]
  },
  {
   "cell_type": "code",
   "execution_count": 9,
   "metadata": {},
   "outputs": [],
   "source": [
    "# one hot encode outputs\n",
    "y_train = np_utils.to_categorical(y_train)\n",
    "y_test = np_utils.to_categorical(y_test)\n",
    "num_classes = y_test.shape[1]"
   ]
  },
  {
   "cell_type": "code",
   "execution_count": 10,
   "metadata": {},
   "outputs": [
    {
     "data": {
      "text/plain": [
       "array([[0., 0., 0., ..., 0., 0., 1.],\n",
       "       [1., 0., 0., ..., 0., 0., 0.],\n",
       "       [1., 0., 0., ..., 0., 0., 0.],\n",
       "       ...,\n",
       "       [0., 0., 0., ..., 0., 0., 0.],\n",
       "       [1., 0., 0., ..., 0., 0., 0.],\n",
       "       [0., 0., 0., ..., 0., 0., 0.]], dtype=float32)"
      ]
     },
     "execution_count": 10,
     "metadata": {},
     "output_type": "execute_result"
    }
   ],
   "source": [
    "y_train"
   ]
  },
  {
   "cell_type": "code",
   "execution_count": 11,
   "metadata": {},
   "outputs": [],
   "source": [
    "# define baseline model\n",
    "def baseline_model():\n",
    " # create model\n",
    " model = Sequential()\n",
    " model.add(Dense(100, kernel_initializer='normal', activation='relu',input_shape=(num_pixels,)))\n",
    "#network.add(layes.Dropout(0.5))\n",
    " model.add(Dense(60, kernel_initializer='normal', activation='softmax'))\n",
    " model.add(Dense(32, kernel_initializer='normal', activation='softmax'))\n",
    " model.add(Dense(num_classes, kernel_initializer='normal', activation='softmax'))\n",
    " # Compile model\n",
    " model.compile(loss='categorical_crossentropy', optimizer='adam', metrics=['accuracy'])\n",
    " return model"
   ]
  },
  {
   "cell_type": "code",
   "execution_count": 15,
   "metadata": {},
   "outputs": [],
   "source": [
    "# build the model\n",
    "from keras import backend as K\n",
    "K.clear_session()\n",
    "model = baseline_model()"
   ]
  },
  {
   "cell_type": "code",
   "execution_count": 16,
   "metadata": {},
   "outputs": [],
   "source": [
    "#from keras.utils.vis_utils import plot_model\n",
    "#plot_model(model, to_file='model_plot.png', show_shapes=True, show_layer_names=True)"
   ]
  },
  {
   "cell_type": "code",
   "execution_count": 17,
   "metadata": {},
   "outputs": [
    {
     "name": "stdout",
     "output_type": "stream",
     "text": [
      "Train on 60000 samples, validate on 10000 samples\n",
      "Epoch 1/40\n",
      " - 2s - loss: 2.2623 - acc: 0.3200 - val_loss: 2.1518 - val_acc: 0.4598\n",
      "Epoch 2/40\n",
      " - 2s - loss: 1.9548 - acc: 0.4721 - val_loss: 1.7596 - val_acc: 0.4744\n",
      "Epoch 3/40\n",
      " - 2s - loss: 1.5562 - acc: 0.4824 - val_loss: 1.3991 - val_acc: 0.4724\n",
      "Epoch 4/40\n",
      " - 2s - loss: 1.2665 - acc: 0.4855 - val_loss: 1.1998 - val_acc: 0.4874\n",
      "Epoch 5/40\n",
      " - 2s - loss: 1.1350 - acc: 0.4923 - val_loss: 1.1188 - val_acc: 0.5005\n",
      "Epoch 6/40\n",
      " - 2s - loss: 1.0626 - acc: 0.5024 - val_loss: 1.0669 - val_acc: 0.5146\n",
      "Epoch 7/40\n",
      " - 2s - loss: 1.0162 - acc: 0.5173 - val_loss: 1.0156 - val_acc: 0.5226\n",
      "Epoch 8/40\n",
      " - 2s - loss: 0.9793 - acc: 0.5411 - val_loss: 0.9819 - val_acc: 0.5592\n",
      "Epoch 9/40\n",
      " - 2s - loss: 0.9336 - acc: 0.6102 - val_loss: 0.9311 - val_acc: 0.6413\n",
      "Epoch 10/40\n",
      " - 2s - loss: 0.8656 - acc: 0.6687 - val_loss: 0.8612 - val_acc: 0.6609\n",
      "Epoch 11/40\n",
      " - 2s - loss: 0.8028 - acc: 0.6840 - val_loss: 0.8009 - val_acc: 0.6871\n",
      "Epoch 12/40\n",
      " - 2s - loss: 0.7462 - acc: 0.7263 - val_loss: 0.7380 - val_acc: 0.7338\n",
      "Epoch 13/40\n",
      " - 2s - loss: 0.6763 - acc: 0.7528 - val_loss: 0.6800 - val_acc: 0.7455\n",
      "Epoch 14/40\n",
      " - 2s - loss: 0.6215 - acc: 0.7621 - val_loss: 0.6442 - val_acc: 0.7490\n",
      "Epoch 15/40\n",
      " - 2s - loss: 0.5843 - acc: 0.7669 - val_loss: 0.6165 - val_acc: 0.7528\n",
      "Epoch 16/40\n",
      " - 2s - loss: 0.5540 - acc: 0.7734 - val_loss: 0.5848 - val_acc: 0.7617\n",
      "Epoch 17/40\n",
      " - 2s - loss: 0.5286 - acc: 0.7867 - val_loss: 0.5679 - val_acc: 0.7750\n",
      "Epoch 18/40\n",
      " - 2s - loss: 0.5012 - acc: 0.8097 - val_loss: 0.5435 - val_acc: 0.8000\n",
      "Epoch 19/40\n",
      " - 2s - loss: 0.4706 - acc: 0.8264 - val_loss: 0.5173 - val_acc: 0.8058\n",
      "Epoch 20/40\n",
      " - 2s - loss: 0.4454 - acc: 0.8322 - val_loss: 0.5061 - val_acc: 0.8043\n",
      "Epoch 21/40\n",
      " - 2s - loss: 0.4233 - acc: 0.8363 - val_loss: 0.4846 - val_acc: 0.8146\n",
      "Epoch 22/40\n",
      " - 2s - loss: 0.4067 - acc: 0.8401 - val_loss: 0.4798 - val_acc: 0.8114\n",
      "Epoch 23/40\n",
      " - 2s - loss: 0.3949 - acc: 0.8431 - val_loss: 0.4796 - val_acc: 0.8154\n",
      "Epoch 24/40\n",
      " - 2s - loss: 0.3844 - acc: 0.8468 - val_loss: 0.4652 - val_acc: 0.8214\n",
      "Epoch 25/40\n",
      " - 2s - loss: 0.3732 - acc: 0.8505 - val_loss: 0.4600 - val_acc: 0.8218\n",
      "Epoch 26/40\n",
      " - 2s - loss: 0.3639 - acc: 0.8539 - val_loss: 0.4680 - val_acc: 0.8164\n",
      "Epoch 27/40\n",
      " - 2s - loss: 0.3613 - acc: 0.8544 - val_loss: 0.4586 - val_acc: 0.8205\n",
      "Epoch 28/40\n",
      " - 2s - loss: 0.3495 - acc: 0.8606 - val_loss: 0.4538 - val_acc: 0.8316\n",
      "Epoch 29/40\n",
      " - 2s - loss: 0.3339 - acc: 0.8820 - val_loss: 0.4398 - val_acc: 0.8570\n",
      "Epoch 30/40\n",
      " - 2s - loss: 0.3121 - acc: 0.8966 - val_loss: 0.4275 - val_acc: 0.8584\n",
      "Epoch 31/40\n",
      " - 2s - loss: 0.2995 - acc: 0.9015 - val_loss: 0.4111 - val_acc: 0.8641\n",
      "Epoch 32/40\n",
      " - 2s - loss: 0.2897 - acc: 0.9055 - val_loss: 0.4157 - val_acc: 0.8618\n",
      "Epoch 33/40\n",
      " - 2s - loss: 0.2820 - acc: 0.9065 - val_loss: 0.4143 - val_acc: 0.8633\n",
      "Epoch 34/40\n",
      " - 2s - loss: 0.2753 - acc: 0.9088 - val_loss: 0.4141 - val_acc: 0.8671\n",
      "Epoch 35/40\n",
      " - 2s - loss: 0.2672 - acc: 0.9121 - val_loss: 0.4170 - val_acc: 0.8659\n",
      "Epoch 36/40\n",
      " - 2s - loss: 0.2677 - acc: 0.9121 - val_loss: 0.4042 - val_acc: 0.8718\n",
      "Epoch 37/40\n",
      " - 2s - loss: 0.2580 - acc: 0.9152 - val_loss: 0.4086 - val_acc: 0.8677\n",
      "Epoch 38/40\n",
      " - 2s - loss: 0.2531 - acc: 0.9162 - val_loss: 0.4081 - val_acc: 0.8684\n",
      "Epoch 39/40\n",
      " - 2s - loss: 0.2464 - acc: 0.9188 - val_loss: 0.3963 - val_acc: 0.8728\n",
      "Epoch 40/40\n",
      " - 2s - loss: 0.2428 - acc: 0.9197 - val_loss: 0.4047 - val_acc: 0.8747\n",
      "[0.4046871571779251, 0.8747]\n",
      "Baseline Error: 12.53%\n"
     ]
    }
   ],
   "source": [
    "# Fit the model\n",
    "max_epochs = 40\n",
    "history = model.fit(X_train, y_train, validation_data=(X_test, y_test), epochs=max_epochs, batch_size=150, verbose=2)\n",
    "# Final evaluation of the model\n",
    "scores = model.evaluate(X_test, y_test, verbose=0)\n",
    "print(scores)\n",
    "print(\"Baseline Error: %.2f%%\" % (100-scores[1]*100))"
   ]
  },
  {
   "cell_type": "code",
   "execution_count": 29,
   "metadata": {},
   "outputs": [
    {
     "data": {
      "image/png": "[encoded data removed]",
      "text/plain": [
       "<Figure size 432x288 with 1 Axes>"
      ]
     },
     "metadata": {
      "needs_background": "light"
     },
     "output_type": "display_data"
    }
   ],
   "source": [
    "x = np.arange(0, max_epochs, 1)\n",
    "val_ac = history.history['val_acc']\n",
    "plt.plot(x,val_ac)\n",
    "plt.xlabel('Number of epochs')\n",
    "plt.ylabel('Validation accuracy')\n",
    "plt.title('Validation accuracy versus epochs')\n",
    "plt.grid(True)"
   ]
  },
  {
   "cell_type": "code",
   "execution_count": null,
   "metadata": {},
   "outputs": [],
   "source": [
    "import tensorflow as tf\n",
    "from keras.layers import Input, Dense\n",
    "from keras.models import Model\n",
    "\n",
    "import matplotlib.pyplot as plt\n",
    "\n",
    "\n",
    "x = tf.Variable(3, name=\"x\") \n",
    "y = tf.Variable(4, name=\"y\") \n",
    "f=x*x*y+y+2\n",
    "\n",
    "\n",
    "sess = tf.Session()\n",
    "sess.run(x.initializer)\n",
    "sess.run(y.initializer)\n",
    "result = sess.run(f)\n",
    "print(result)\n",
    "sess.close()"
   ]
  },
  {
   "cell_type": "code",
   "execution_count": null,
   "metadata": {},
   "outputs": [],
   "source": [
    "#Linear Regression with TensorFlow\n",
    "from sklearn.datasets import fetch_california_housing\n",
    "housing = fetch_california_housing()\n",
    "m, n = housing.data.shape\n",
    "housing_data_plus_bias = np.c_[np.ones((m, 1)), housing.data]\n",
    "X = tf.constant(housing_data_plus_bias, dtype=tf.float32, name=\"X\")\n",
    "y = tf.constant(housing.target.reshape(-1, 1), dtype=tf.float32, name=\"y\")\n",
    "XT = tf.transpose(X)\n",
    "theta = tf.matmul(tf.matmul(tf.matrix_inverse(tf.matmul(XT, X)), XT), y)\n",
    "with tf.Session() as sess:\n",
    " theta_value = theta.eval()"
   ]
  },
  {
   "cell_type": "code",
   "execution_count": null,
   "metadata": {},
   "outputs": [],
   "source": []
  }
 ],
 "metadata": {
  "kernelspec": {
   "display_name": "Python 3",
   "language": "python",
   "name": "python3"
  },
  "language_info": {
   "codemirror_mode": {
    "name": "ipython",
    "version": 3
   },
   "file_extension": ".py",
   "mimetype": "text/x-python",
   "name": "python",
   "nbconvert_exporter": "python",
   "pygments_lexer": "ipython3",
   "version": "3.6.8"
  }
 },
 "nbformat": 4,
 "nbformat_minor": 2
}
